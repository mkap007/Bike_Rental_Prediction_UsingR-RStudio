{
 "cells": [
  {
   "cell_type": "markdown",
   "id": "bb6272c4-8691-4a6e-a29d-03ee863608a3",
   "metadata": {},
   "source": [
    "<h1>R Programming Assessment</h1>"
   ]
  },
  {
   "cell_type": "markdown",
   "id": "01331cde-9b45-4342-a95e-74c353b3ab3f",
   "metadata": {},
   "source": [
    "**Data Import** "
   ]
  },
  {
   "cell_type": "markdown",
   "id": "adb0e9d9-5090-4506-a4a6-e7926dce444b",
   "metadata": {
    "scrolled": true
   },
   "source": [
    "##\n",
    "x = c(\"ggplot2\", \"corrgram\", \"ggcorrplot\", \"DMwR\", \"caret\", \"randomForest\", \"unbalanced\", \"C50\", \"dummies\", \"e1071\", \"Information\",\n",
    "      \"MASS\", \"rpart\", \"gbm\", \"ROSE\", \"sampling\", \"DataCombine\", \"inTrees\", \"ranger\", \"rpart.plot\")\n",
    "install.packages(x)\n",
    "##"
   ]
  },
  {
   "cell_type": "code",
   "execution_count": 1,
   "id": "d0313ae7-d9ad-4710-a094-5f30c69e277c",
   "metadata": {},
   "outputs": [
    {
     "data": {
      "text/html": [
       "<table class=\"dataframe\">\n",
       "<caption>A data.frame: 5 × 16</caption>\n",
       "<thead>\n",
       "\t<tr><th></th><th scope=col>instant</th><th scope=col>dteday</th><th scope=col>season</th><th scope=col>yr</th><th scope=col>mnth</th><th scope=col>holiday</th><th scope=col>weekday</th><th scope=col>workingday</th><th scope=col>weathersit</th><th scope=col>temp</th><th scope=col>atemp</th><th scope=col>hum</th><th scope=col>windspeed</th><th scope=col>casual</th><th scope=col>registered</th><th scope=col>cnt</th></tr>\n",
       "\t<tr><th></th><th scope=col>&lt;int&gt;</th><th scope=col>&lt;chr&gt;</th><th scope=col>&lt;int&gt;</th><th scope=col>&lt;int&gt;</th><th scope=col>&lt;int&gt;</th><th scope=col>&lt;int&gt;</th><th scope=col>&lt;int&gt;</th><th scope=col>&lt;int&gt;</th><th scope=col>&lt;int&gt;</th><th scope=col>&lt;dbl&gt;</th><th scope=col>&lt;dbl&gt;</th><th scope=col>&lt;dbl&gt;</th><th scope=col>&lt;dbl&gt;</th><th scope=col>&lt;int&gt;</th><th scope=col>&lt;int&gt;</th><th scope=col>&lt;int&gt;</th></tr>\n",
       "</thead>\n",
       "<tbody>\n",
       "\t<tr><th scope=row>1</th><td>1</td><td>01-01-2011</td><td>1</td><td>0</td><td>1</td><td>0</td><td>6</td><td>0</td><td>2</td><td>0.344167</td><td>0.363625</td><td>0.805833</td><td>0.160446</td><td>331</td><td> 654</td><td> 985</td></tr>\n",
       "\t<tr><th scope=row>2</th><td>2</td><td>02-01-2011</td><td>1</td><td>0</td><td>1</td><td>0</td><td>0</td><td>0</td><td>2</td><td>0.363478</td><td>0.353739</td><td>0.696087</td><td>0.248539</td><td>131</td><td> 670</td><td> 801</td></tr>\n",
       "\t<tr><th scope=row>3</th><td>3</td><td>03-01-2011</td><td>1</td><td>0</td><td>1</td><td>0</td><td>1</td><td>1</td><td>1</td><td>0.196364</td><td>0.189405</td><td>0.437273</td><td>0.248309</td><td>120</td><td>1229</td><td>1349</td></tr>\n",
       "\t<tr><th scope=row>4</th><td>4</td><td>04-01-2011</td><td>1</td><td>0</td><td>1</td><td>0</td><td>2</td><td>1</td><td>1</td><td>0.200000</td><td>0.212122</td><td>0.590435</td><td>0.160296</td><td>108</td><td>1454</td><td>1562</td></tr>\n",
       "\t<tr><th scope=row>5</th><td>5</td><td>05-01-2011</td><td>1</td><td>0</td><td>1</td><td>0</td><td>3</td><td>1</td><td>1</td><td>0.226957</td><td>0.229270</td><td>0.436957</td><td>0.186900</td><td> 82</td><td>1518</td><td>1600</td></tr>\n",
       "</tbody>\n",
       "</table>\n"
      ],
      "text/latex": [
       "A data.frame: 5 × 16\n",
       "\\begin{tabular}{r|llllllllllllllll}\n",
       "  & instant & dteday & season & yr & mnth & holiday & weekday & workingday & weathersit & temp & atemp & hum & windspeed & casual & registered & cnt\\\\\n",
       "  & <int> & <chr> & <int> & <int> & <int> & <int> & <int> & <int> & <int> & <dbl> & <dbl> & <dbl> & <dbl> & <int> & <int> & <int>\\\\\n",
       "\\hline\n",
       "\t1 & 1 & 01-01-2011 & 1 & 0 & 1 & 0 & 6 & 0 & 2 & 0.344167 & 0.363625 & 0.805833 & 0.160446 & 331 &  654 &  985\\\\\n",
       "\t2 & 2 & 02-01-2011 & 1 & 0 & 1 & 0 & 0 & 0 & 2 & 0.363478 & 0.353739 & 0.696087 & 0.248539 & 131 &  670 &  801\\\\\n",
       "\t3 & 3 & 03-01-2011 & 1 & 0 & 1 & 0 & 1 & 1 & 1 & 0.196364 & 0.189405 & 0.437273 & 0.248309 & 120 & 1229 & 1349\\\\\n",
       "\t4 & 4 & 04-01-2011 & 1 & 0 & 1 & 0 & 2 & 1 & 1 & 0.200000 & 0.212122 & 0.590435 & 0.160296 & 108 & 1454 & 1562\\\\\n",
       "\t5 & 5 & 05-01-2011 & 1 & 0 & 1 & 0 & 3 & 1 & 1 & 0.226957 & 0.229270 & 0.436957 & 0.186900 &  82 & 1518 & 1600\\\\\n",
       "\\end{tabular}\n"
      ],
      "text/markdown": [
       "\n",
       "A data.frame: 5 × 16\n",
       "\n",
       "| <!--/--> | instant &lt;int&gt; | dteday &lt;chr&gt; | season &lt;int&gt; | yr &lt;int&gt; | mnth &lt;int&gt; | holiday &lt;int&gt; | weekday &lt;int&gt; | workingday &lt;int&gt; | weathersit &lt;int&gt; | temp &lt;dbl&gt; | atemp &lt;dbl&gt; | hum &lt;dbl&gt; | windspeed &lt;dbl&gt; | casual &lt;int&gt; | registered &lt;int&gt; | cnt &lt;int&gt; |\n",
       "|---|---|---|---|---|---|---|---|---|---|---|---|---|---|---|---|---|\n",
       "| 1 | 1 | 01-01-2011 | 1 | 0 | 1 | 0 | 6 | 0 | 2 | 0.344167 | 0.363625 | 0.805833 | 0.160446 | 331 |  654 |  985 |\n",
       "| 2 | 2 | 02-01-2011 | 1 | 0 | 1 | 0 | 0 | 0 | 2 | 0.363478 | 0.353739 | 0.696087 | 0.248539 | 131 |  670 |  801 |\n",
       "| 3 | 3 | 03-01-2011 | 1 | 0 | 1 | 0 | 1 | 1 | 1 | 0.196364 | 0.189405 | 0.437273 | 0.248309 | 120 | 1229 | 1349 |\n",
       "| 4 | 4 | 04-01-2011 | 1 | 0 | 1 | 0 | 2 | 1 | 1 | 0.200000 | 0.212122 | 0.590435 | 0.160296 | 108 | 1454 | 1562 |\n",
       "| 5 | 5 | 05-01-2011 | 1 | 0 | 1 | 0 | 3 | 1 | 1 | 0.226957 | 0.229270 | 0.436957 | 0.186900 |  82 | 1518 | 1600 |\n",
       "\n"
      ],
      "text/plain": [
       "  instant dteday     season yr mnth holiday weekday workingday weathersit\n",
       "1 1       01-01-2011 1      0  1    0       6       0          2         \n",
       "2 2       02-01-2011 1      0  1    0       0       0          2         \n",
       "3 3       03-01-2011 1      0  1    0       1       1          1         \n",
       "4 4       04-01-2011 1      0  1    0       2       1          1         \n",
       "5 5       05-01-2011 1      0  1    0       3       1          1         \n",
       "  temp     atemp    hum      windspeed casual registered cnt \n",
       "1 0.344167 0.363625 0.805833 0.160446  331     654        985\n",
       "2 0.363478 0.353739 0.696087 0.248539  131     670        801\n",
       "3 0.196364 0.189405 0.437273 0.248309  120    1229       1349\n",
       "4 0.200000 0.212122 0.590435 0.160296  108    1454       1562\n",
       "5 0.226957 0.229270 0.436957 0.186900   82    1518       1600"
      ]
     },
     "metadata": {},
     "output_type": "display_data"
    }
   ],
   "source": [
    "bike_df<-read.csv(\"day.csv\")\n",
    "head(bike_df,5)"
   ]
  },
  {
   "cell_type": "markdown",
   "id": "1997dda3-3e39-4f4d-8ea7-da7e8607c8f9",
   "metadata": {},
   "source": [
    "Remove the casual and registered variable due to total_count is combined of both."
   ]
  },
  {
   "cell_type": "code",
   "execution_count": 2,
   "id": "6c78c89e-b07e-4e41-b0a0-2691d86b9900",
   "metadata": {},
   "outputs": [
    {
     "data": {
      "text/html": [
       "<table class=\"dataframe\">\n",
       "<caption>A data.frame: 5 × 14</caption>\n",
       "<thead>\n",
       "\t<tr><th></th><th scope=col>instant</th><th scope=col>dteday</th><th scope=col>season</th><th scope=col>yr</th><th scope=col>mnth</th><th scope=col>holiday</th><th scope=col>weekday</th><th scope=col>workingday</th><th scope=col>weathersit</th><th scope=col>temp</th><th scope=col>atemp</th><th scope=col>hum</th><th scope=col>windspeed</th><th scope=col>cnt</th></tr>\n",
       "\t<tr><th></th><th scope=col>&lt;int&gt;</th><th scope=col>&lt;chr&gt;</th><th scope=col>&lt;int&gt;</th><th scope=col>&lt;int&gt;</th><th scope=col>&lt;int&gt;</th><th scope=col>&lt;int&gt;</th><th scope=col>&lt;int&gt;</th><th scope=col>&lt;int&gt;</th><th scope=col>&lt;int&gt;</th><th scope=col>&lt;dbl&gt;</th><th scope=col>&lt;dbl&gt;</th><th scope=col>&lt;dbl&gt;</th><th scope=col>&lt;dbl&gt;</th><th scope=col>&lt;int&gt;</th></tr>\n",
       "</thead>\n",
       "<tbody>\n",
       "\t<tr><th scope=row>1</th><td>1</td><td>01-01-2011</td><td>1</td><td>0</td><td>1</td><td>0</td><td>6</td><td>0</td><td>2</td><td>0.344167</td><td>0.363625</td><td>0.805833</td><td>0.160446</td><td> 985</td></tr>\n",
       "\t<tr><th scope=row>2</th><td>2</td><td>02-01-2011</td><td>1</td><td>0</td><td>1</td><td>0</td><td>0</td><td>0</td><td>2</td><td>0.363478</td><td>0.353739</td><td>0.696087</td><td>0.248539</td><td> 801</td></tr>\n",
       "\t<tr><th scope=row>3</th><td>3</td><td>03-01-2011</td><td>1</td><td>0</td><td>1</td><td>0</td><td>1</td><td>1</td><td>1</td><td>0.196364</td><td>0.189405</td><td>0.437273</td><td>0.248309</td><td>1349</td></tr>\n",
       "\t<tr><th scope=row>4</th><td>4</td><td>04-01-2011</td><td>1</td><td>0</td><td>1</td><td>0</td><td>2</td><td>1</td><td>1</td><td>0.200000</td><td>0.212122</td><td>0.590435</td><td>0.160296</td><td>1562</td></tr>\n",
       "\t<tr><th scope=row>5</th><td>5</td><td>05-01-2011</td><td>1</td><td>0</td><td>1</td><td>0</td><td>3</td><td>1</td><td>1</td><td>0.226957</td><td>0.229270</td><td>0.436957</td><td>0.186900</td><td>1600</td></tr>\n",
       "</tbody>\n",
       "</table>\n"
      ],
      "text/latex": [
       "A data.frame: 5 × 14\n",
       "\\begin{tabular}{r|llllllllllllll}\n",
       "  & instant & dteday & season & yr & mnth & holiday & weekday & workingday & weathersit & temp & atemp & hum & windspeed & cnt\\\\\n",
       "  & <int> & <chr> & <int> & <int> & <int> & <int> & <int> & <int> & <int> & <dbl> & <dbl> & <dbl> & <dbl> & <int>\\\\\n",
       "\\hline\n",
       "\t1 & 1 & 01-01-2011 & 1 & 0 & 1 & 0 & 6 & 0 & 2 & 0.344167 & 0.363625 & 0.805833 & 0.160446 &  985\\\\\n",
       "\t2 & 2 & 02-01-2011 & 1 & 0 & 1 & 0 & 0 & 0 & 2 & 0.363478 & 0.353739 & 0.696087 & 0.248539 &  801\\\\\n",
       "\t3 & 3 & 03-01-2011 & 1 & 0 & 1 & 0 & 1 & 1 & 1 & 0.196364 & 0.189405 & 0.437273 & 0.248309 & 1349\\\\\n",
       "\t4 & 4 & 04-01-2011 & 1 & 0 & 1 & 0 & 2 & 1 & 1 & 0.200000 & 0.212122 & 0.590435 & 0.160296 & 1562\\\\\n",
       "\t5 & 5 & 05-01-2011 & 1 & 0 & 1 & 0 & 3 & 1 & 1 & 0.226957 & 0.229270 & 0.436957 & 0.186900 & 1600\\\\\n",
       "\\end{tabular}\n"
      ],
      "text/markdown": [
       "\n",
       "A data.frame: 5 × 14\n",
       "\n",
       "| <!--/--> | instant &lt;int&gt; | dteday &lt;chr&gt; | season &lt;int&gt; | yr &lt;int&gt; | mnth &lt;int&gt; | holiday &lt;int&gt; | weekday &lt;int&gt; | workingday &lt;int&gt; | weathersit &lt;int&gt; | temp &lt;dbl&gt; | atemp &lt;dbl&gt; | hum &lt;dbl&gt; | windspeed &lt;dbl&gt; | cnt &lt;int&gt; |\n",
       "|---|---|---|---|---|---|---|---|---|---|---|---|---|---|---|\n",
       "| 1 | 1 | 01-01-2011 | 1 | 0 | 1 | 0 | 6 | 0 | 2 | 0.344167 | 0.363625 | 0.805833 | 0.160446 |  985 |\n",
       "| 2 | 2 | 02-01-2011 | 1 | 0 | 1 | 0 | 0 | 0 | 2 | 0.363478 | 0.353739 | 0.696087 | 0.248539 |  801 |\n",
       "| 3 | 3 | 03-01-2011 | 1 | 0 | 1 | 0 | 1 | 1 | 1 | 0.196364 | 0.189405 | 0.437273 | 0.248309 | 1349 |\n",
       "| 4 | 4 | 04-01-2011 | 1 | 0 | 1 | 0 | 2 | 1 | 1 | 0.200000 | 0.212122 | 0.590435 | 0.160296 | 1562 |\n",
       "| 5 | 5 | 05-01-2011 | 1 | 0 | 1 | 0 | 3 | 1 | 1 | 0.226957 | 0.229270 | 0.436957 | 0.186900 | 1600 |\n",
       "\n"
      ],
      "text/plain": [
       "  instant dteday     season yr mnth holiday weekday workingday weathersit\n",
       "1 1       01-01-2011 1      0  1    0       6       0          2         \n",
       "2 2       02-01-2011 1      0  1    0       0       0          2         \n",
       "3 3       03-01-2011 1      0  1    0       1       1          1         \n",
       "4 4       04-01-2011 1      0  1    0       2       1          1         \n",
       "5 5       05-01-2011 1      0  1    0       3       1          1         \n",
       "  temp     atemp    hum      windspeed cnt \n",
       "1 0.344167 0.363625 0.805833 0.160446   985\n",
       "2 0.363478 0.353739 0.696087 0.248539   801\n",
       "3 0.196364 0.189405 0.437273 0.248309  1349\n",
       "4 0.200000 0.212122 0.590435 0.160296  1562\n",
       "5 0.226957 0.229270 0.436957 0.186900  1600"
      ]
     },
     "metadata": {},
     "output_type": "display_data"
    }
   ],
   "source": [
    "bike_df<-subset(bike_df,select=-c(casual,registered))\n",
    "head(bike_df,5)"
   ]
  },
  {
   "cell_type": "code",
   "execution_count": 3,
   "id": "da5ad585-7471-40be-a94c-0c99bd277b4d",
   "metadata": {},
   "outputs": [
    {
     "data": {
      "text/html": [
       "<style>\n",
       ".list-inline {list-style: none; margin:0; padding: 0}\n",
       ".list-inline>li {display: inline-block}\n",
       ".list-inline>li:not(:last-child)::after {content: \"\\00b7\"; padding: 0 .5ex}\n",
       "</style>\n",
       "<ol class=list-inline><li>731</li><li>14</li></ol>\n"
      ],
      "text/latex": [
       "\\begin{enumerate*}\n",
       "\\item 731\n",
       "\\item 14\n",
       "\\end{enumerate*}\n"
      ],
      "text/markdown": [
       "1. 731\n",
       "2. 14\n",
       "\n",
       "\n"
      ],
      "text/plain": [
       "[1] 731  14"
      ]
     },
     "metadata": {},
     "output_type": "display_data"
    }
   ],
   "source": [
    "dim(bike_df)"
   ]
  },
  {
   "cell_type": "code",
   "execution_count": 4,
   "id": "80543744-661e-4e9f-934e-7239052a6f1b",
   "metadata": {},
   "outputs": [
    {
     "data": {
      "text/plain": [
       "    instant         dteday              season            yr        \n",
       " Min.   :  1.0   Length:731         Min.   :1.000   Min.   :0.0000  \n",
       " 1st Qu.:183.5   Class :character   1st Qu.:2.000   1st Qu.:0.0000  \n",
       " Median :366.0   Mode  :character   Median :3.000   Median :1.0000  \n",
       " Mean   :366.0                      Mean   :2.497   Mean   :0.5007  \n",
       " 3rd Qu.:548.5                      3rd Qu.:3.000   3rd Qu.:1.0000  \n",
       " Max.   :731.0                      Max.   :4.000   Max.   :1.0000  \n",
       "      mnth          holiday           weekday        workingday   \n",
       " Min.   : 1.00   Min.   :0.00000   Min.   :0.000   Min.   :0.000  \n",
       " 1st Qu.: 4.00   1st Qu.:0.00000   1st Qu.:1.000   1st Qu.:0.000  \n",
       " Median : 7.00   Median :0.00000   Median :3.000   Median :1.000  \n",
       " Mean   : 6.52   Mean   :0.02873   Mean   :2.997   Mean   :0.684  \n",
       " 3rd Qu.:10.00   3rd Qu.:0.00000   3rd Qu.:5.000   3rd Qu.:1.000  \n",
       " Max.   :12.00   Max.   :1.00000   Max.   :6.000   Max.   :1.000  \n",
       "   weathersit         temp             atemp              hum        \n",
       " Min.   :1.000   Min.   :0.05913   Min.   :0.07907   Min.   :0.0000  \n",
       " 1st Qu.:1.000   1st Qu.:0.33708   1st Qu.:0.33784   1st Qu.:0.5200  \n",
       " Median :1.000   Median :0.49833   Median :0.48673   Median :0.6267  \n",
       " Mean   :1.395   Mean   :0.49538   Mean   :0.47435   Mean   :0.6279  \n",
       " 3rd Qu.:2.000   3rd Qu.:0.65542   3rd Qu.:0.60860   3rd Qu.:0.7302  \n",
       " Max.   :3.000   Max.   :0.86167   Max.   :0.84090   Max.   :0.9725  \n",
       "   windspeed            cnt      \n",
       " Min.   :0.02239   Min.   :  22  \n",
       " 1st Qu.:0.13495   1st Qu.:3152  \n",
       " Median :0.18097   Median :4548  \n",
       " Mean   :0.19049   Mean   :4504  \n",
       " 3rd Qu.:0.23321   3rd Qu.:5956  \n",
       " Max.   :0.50746   Max.   :8714  "
      ]
     },
     "metadata": {},
     "output_type": "display_data"
    }
   ],
   "source": [
    "summary(bike_df)"
   ]
  },
  {
   "cell_type": "code",
   "execution_count": 5,
   "id": "120bdc87-60f5-4461-87c9-6e447b740887",
   "metadata": {},
   "outputs": [
    {
     "name": "stdout",
     "output_type": "stream",
     "text": [
      "'data.frame':\t731 obs. of  14 variables:\n",
      " $ instant   : int  1 2 3 4 5 6 7 8 9 10 ...\n",
      " $ dteday    : chr  \"01-01-2011\" \"02-01-2011\" \"03-01-2011\" \"04-01-2011\" ...\n",
      " $ season    : int  1 1 1 1 1 1 1 1 1 1 ...\n",
      " $ yr        : int  0 0 0 0 0 0 0 0 0 0 ...\n",
      " $ mnth      : int  1 1 1 1 1 1 1 1 1 1 ...\n",
      " $ holiday   : int  0 0 0 0 0 0 0 0 0 0 ...\n",
      " $ weekday   : int  6 0 1 2 3 4 5 6 0 1 ...\n",
      " $ workingday: int  0 0 1 1 1 1 1 0 0 1 ...\n",
      " $ weathersit: int  2 2 1 1 1 1 2 2 1 1 ...\n",
      " $ temp      : num  0.344 0.363 0.196 0.2 0.227 ...\n",
      " $ atemp     : num  0.364 0.354 0.189 0.212 0.229 ...\n",
      " $ hum       : num  0.806 0.696 0.437 0.59 0.437 ...\n",
      " $ windspeed : num  0.16 0.249 0.248 0.16 0.187 ...\n",
      " $ cnt       : int  985 801 1349 1562 1600 1606 1510 959 822 1321 ...\n"
     ]
    }
   ],
   "source": [
    "str(bike_df)"
   ]
  },
  {
   "cell_type": "markdown",
   "id": "e5b83aad-d008-4a2e-9be9-26074be1458e",
   "metadata": {},
   "source": [
    "***Rename the columns for better understanding of variables***"
   ]
  },
  {
   "cell_type": "code",
   "execution_count": 6,
   "id": "f2be1336-5f3d-4de4-9306-b9c4258d47c1",
   "metadata": {},
   "outputs": [
    {
     "data": {
      "text/html": [
       "<table class=\"dataframe\">\n",
       "<caption>A data.frame: 5 × 14</caption>\n",
       "<thead>\n",
       "\t<tr><th></th><th scope=col>rec_id</th><th scope=col>datetime</th><th scope=col>season</th><th scope=col>year</th><th scope=col>month</th><th scope=col>holiday</th><th scope=col>weekday</th><th scope=col>workingday</th><th scope=col>weather_condition</th><th scope=col>temp</th><th scope=col>atemp</th><th scope=col>humidity</th><th scope=col>windspeed</th><th scope=col>total_count</th></tr>\n",
       "\t<tr><th></th><th scope=col>&lt;int&gt;</th><th scope=col>&lt;chr&gt;</th><th scope=col>&lt;int&gt;</th><th scope=col>&lt;int&gt;</th><th scope=col>&lt;int&gt;</th><th scope=col>&lt;int&gt;</th><th scope=col>&lt;int&gt;</th><th scope=col>&lt;int&gt;</th><th scope=col>&lt;int&gt;</th><th scope=col>&lt;dbl&gt;</th><th scope=col>&lt;dbl&gt;</th><th scope=col>&lt;dbl&gt;</th><th scope=col>&lt;dbl&gt;</th><th scope=col>&lt;int&gt;</th></tr>\n",
       "</thead>\n",
       "<tbody>\n",
       "\t<tr><th scope=row>1</th><td>1</td><td>01-01-2011</td><td>1</td><td>0</td><td>1</td><td>0</td><td>6</td><td>0</td><td>2</td><td>0.344167</td><td>0.363625</td><td>0.805833</td><td>0.160446</td><td> 985</td></tr>\n",
       "\t<tr><th scope=row>2</th><td>2</td><td>02-01-2011</td><td>1</td><td>0</td><td>1</td><td>0</td><td>0</td><td>0</td><td>2</td><td>0.363478</td><td>0.353739</td><td>0.696087</td><td>0.248539</td><td> 801</td></tr>\n",
       "\t<tr><th scope=row>3</th><td>3</td><td>03-01-2011</td><td>1</td><td>0</td><td>1</td><td>0</td><td>1</td><td>1</td><td>1</td><td>0.196364</td><td>0.189405</td><td>0.437273</td><td>0.248309</td><td>1349</td></tr>\n",
       "\t<tr><th scope=row>4</th><td>4</td><td>04-01-2011</td><td>1</td><td>0</td><td>1</td><td>0</td><td>2</td><td>1</td><td>1</td><td>0.200000</td><td>0.212122</td><td>0.590435</td><td>0.160296</td><td>1562</td></tr>\n",
       "\t<tr><th scope=row>5</th><td>5</td><td>05-01-2011</td><td>1</td><td>0</td><td>1</td><td>0</td><td>3</td><td>1</td><td>1</td><td>0.226957</td><td>0.229270</td><td>0.436957</td><td>0.186900</td><td>1600</td></tr>\n",
       "</tbody>\n",
       "</table>\n"
      ],
      "text/latex": [
       "A data.frame: 5 × 14\n",
       "\\begin{tabular}{r|llllllllllllll}\n",
       "  & rec\\_id & datetime & season & year & month & holiday & weekday & workingday & weather\\_condition & temp & atemp & humidity & windspeed & total\\_count\\\\\n",
       "  & <int> & <chr> & <int> & <int> & <int> & <int> & <int> & <int> & <int> & <dbl> & <dbl> & <dbl> & <dbl> & <int>\\\\\n",
       "\\hline\n",
       "\t1 & 1 & 01-01-2011 & 1 & 0 & 1 & 0 & 6 & 0 & 2 & 0.344167 & 0.363625 & 0.805833 & 0.160446 &  985\\\\\n",
       "\t2 & 2 & 02-01-2011 & 1 & 0 & 1 & 0 & 0 & 0 & 2 & 0.363478 & 0.353739 & 0.696087 & 0.248539 &  801\\\\\n",
       "\t3 & 3 & 03-01-2011 & 1 & 0 & 1 & 0 & 1 & 1 & 1 & 0.196364 & 0.189405 & 0.437273 & 0.248309 & 1349\\\\\n",
       "\t4 & 4 & 04-01-2011 & 1 & 0 & 1 & 0 & 2 & 1 & 1 & 0.200000 & 0.212122 & 0.590435 & 0.160296 & 1562\\\\\n",
       "\t5 & 5 & 05-01-2011 & 1 & 0 & 1 & 0 & 3 & 1 & 1 & 0.226957 & 0.229270 & 0.436957 & 0.186900 & 1600\\\\\n",
       "\\end{tabular}\n"
      ],
      "text/markdown": [
       "\n",
       "A data.frame: 5 × 14\n",
       "\n",
       "| <!--/--> | rec_id &lt;int&gt; | datetime &lt;chr&gt; | season &lt;int&gt; | year &lt;int&gt; | month &lt;int&gt; | holiday &lt;int&gt; | weekday &lt;int&gt; | workingday &lt;int&gt; | weather_condition &lt;int&gt; | temp &lt;dbl&gt; | atemp &lt;dbl&gt; | humidity &lt;dbl&gt; | windspeed &lt;dbl&gt; | total_count &lt;int&gt; |\n",
       "|---|---|---|---|---|---|---|---|---|---|---|---|---|---|---|\n",
       "| 1 | 1 | 01-01-2011 | 1 | 0 | 1 | 0 | 6 | 0 | 2 | 0.344167 | 0.363625 | 0.805833 | 0.160446 |  985 |\n",
       "| 2 | 2 | 02-01-2011 | 1 | 0 | 1 | 0 | 0 | 0 | 2 | 0.363478 | 0.353739 | 0.696087 | 0.248539 |  801 |\n",
       "| 3 | 3 | 03-01-2011 | 1 | 0 | 1 | 0 | 1 | 1 | 1 | 0.196364 | 0.189405 | 0.437273 | 0.248309 | 1349 |\n",
       "| 4 | 4 | 04-01-2011 | 1 | 0 | 1 | 0 | 2 | 1 | 1 | 0.200000 | 0.212122 | 0.590435 | 0.160296 | 1562 |\n",
       "| 5 | 5 | 05-01-2011 | 1 | 0 | 1 | 0 | 3 | 1 | 1 | 0.226957 | 0.229270 | 0.436957 | 0.186900 | 1600 |\n",
       "\n"
      ],
      "text/plain": [
       "  rec_id datetime   season year month holiday weekday workingday\n",
       "1 1      01-01-2011 1      0    1     0       6       0         \n",
       "2 2      02-01-2011 1      0    1     0       0       0         \n",
       "3 3      03-01-2011 1      0    1     0       1       1         \n",
       "4 4      04-01-2011 1      0    1     0       2       1         \n",
       "5 5      05-01-2011 1      0    1     0       3       1         \n",
       "  weather_condition temp     atemp    humidity windspeed total_count\n",
       "1 2                 0.344167 0.363625 0.805833 0.160446   985       \n",
       "2 2                 0.363478 0.353739 0.696087 0.248539   801       \n",
       "3 1                 0.196364 0.189405 0.437273 0.248309  1349       \n",
       "4 1                 0.200000 0.212122 0.590435 0.160296  1562       \n",
       "5 1                 0.226957 0.229270 0.436957 0.186900  1600       "
      ]
     },
     "metadata": {},
     "output_type": "display_data"
    }
   ],
   "source": [
    "names(bike_df)<-c('rec_id','datetime','season','year','month','holiday','weekday','workingday','weather_condition','temp','atemp','humidity','windspeed','total_count')\n",
    "head(bike_df,5)"
   ]
  },
  {
   "cell_type": "markdown",
   "id": "0e17a236-57c4-4266-b80b-9fe56de975c8",
   "metadata": {},
   "source": [
    "**TypeCasting**"
   ]
  },
  {
   "cell_type": "code",
   "execution_count": 7,
   "id": "86288992-0800-45f8-af26-2ca0127c636c",
   "metadata": {},
   "outputs": [],
   "source": [
    "bike_df$datetime<- as.Date(bike_df$datetime)\n",
    "bike_df$year<-as.factor(bike_df$year)\n",
    "bike_df$month<-as.factor(bike_df$month)\n",
    "bike_df$season <- as.factor(bike_df$season)\n",
    "bike_df$holiday<- as.factor(bike_df$holiday)\n",
    "bike_df$weekday<- as.factor(bike_df$weekday)\n",
    "bike_df$workingday<- as.factor(bike_df$workingday)\n",
    "bike_df$weather_condition<- as.factor(bike_df$weather_condition)"
   ]
  },
  {
   "cell_type": "markdown",
   "id": "c86b1b81-041f-45c2-8261-77472ca8f294",
   "metadata": {},
   "source": [
    "**Finding Missing Value**"
   ]
  },
  {
   "cell_type": "code",
   "execution_count": 8,
   "id": "d15da03d-c055-4757-b699-4bdd48c23a45",
   "metadata": {},
   "outputs": [
    {
     "data": {
      "text/html": [
       "<table class=\"dataframe\">\n",
       "<caption>A data.frame: 14 × 1</caption>\n",
       "<thead>\n",
       "\t<tr><th></th><th scope=col>missing_val</th></tr>\n",
       "\t<tr><th></th><th scope=col>&lt;int&gt;</th></tr>\n",
       "</thead>\n",
       "<tbody>\n",
       "\t<tr><th scope=row>rec_id</th><td>0</td></tr>\n",
       "\t<tr><th scope=row>datetime</th><td>0</td></tr>\n",
       "\t<tr><th scope=row>season</th><td>0</td></tr>\n",
       "\t<tr><th scope=row>year</th><td>0</td></tr>\n",
       "\t<tr><th scope=row>month</th><td>0</td></tr>\n",
       "\t<tr><th scope=row>holiday</th><td>0</td></tr>\n",
       "\t<tr><th scope=row>weekday</th><td>0</td></tr>\n",
       "\t<tr><th scope=row>workingday</th><td>0</td></tr>\n",
       "\t<tr><th scope=row>weather_condition</th><td>0</td></tr>\n",
       "\t<tr><th scope=row>temp</th><td>0</td></tr>\n",
       "\t<tr><th scope=row>atemp</th><td>0</td></tr>\n",
       "\t<tr><th scope=row>humidity</th><td>0</td></tr>\n",
       "\t<tr><th scope=row>windspeed</th><td>0</td></tr>\n",
       "\t<tr><th scope=row>total_count</th><td>0</td></tr>\n",
       "</tbody>\n",
       "</table>\n"
      ],
      "text/latex": [
       "A data.frame: 14 × 1\n",
       "\\begin{tabular}{r|l}\n",
       "  & missing\\_val\\\\\n",
       "  & <int>\\\\\n",
       "\\hline\n",
       "\trec\\_id & 0\\\\\n",
       "\tdatetime & 0\\\\\n",
       "\tseason & 0\\\\\n",
       "\tyear & 0\\\\\n",
       "\tmonth & 0\\\\\n",
       "\tholiday & 0\\\\\n",
       "\tweekday & 0\\\\\n",
       "\tworkingday & 0\\\\\n",
       "\tweather\\_condition & 0\\\\\n",
       "\ttemp & 0\\\\\n",
       "\tatemp & 0\\\\\n",
       "\thumidity & 0\\\\\n",
       "\twindspeed & 0\\\\\n",
       "\ttotal\\_count & 0\\\\\n",
       "\\end{tabular}\n"
      ],
      "text/markdown": [
       "\n",
       "A data.frame: 14 × 1\n",
       "\n",
       "| <!--/--> | missing_val &lt;int&gt; |\n",
       "|---|---|\n",
       "| rec_id | 0 |\n",
       "| datetime | 0 |\n",
       "| season | 0 |\n",
       "| year | 0 |\n",
       "| month | 0 |\n",
       "| holiday | 0 |\n",
       "| weekday | 0 |\n",
       "| workingday | 0 |\n",
       "| weather_condition | 0 |\n",
       "| temp | 0 |\n",
       "| atemp | 0 |\n",
       "| humidity | 0 |\n",
       "| windspeed | 0 |\n",
       "| total_count | 0 |\n",
       "\n"
      ],
      "text/plain": [
       "                  missing_val\n",
       "rec_id            0          \n",
       "datetime          0          \n",
       "season            0          \n",
       "year              0          \n",
       "month             0          \n",
       "holiday           0          \n",
       "weekday           0          \n",
       "workingday        0          \n",
       "weather_condition 0          \n",
       "temp              0          \n",
       "atemp             0          \n",
       "humidity          0          \n",
       "windspeed         0          \n",
       "total_count       0          "
      ]
     },
     "metadata": {},
     "output_type": "display_data"
    }
   ],
   "source": [
    "missing_val<-data.frame(apply(bike_df,2,function(x){sum(is.na(x))}))\n",
    "names(missing_val)[1]='missing_val'\n",
    "missing_val"
   ]
  },
  {
   "cell_type": "markdown",
   "id": "0add401e-e4f1-4f66-8bd2-992f883bff04",
   "metadata": {},
   "source": [
    "**Distribution Plots**"
   ]
  },
  {
   "cell_type": "markdown",
   "id": "edf1de31-4441-4ef5-abac-e449eec84528",
   "metadata": {},
   "source": [
    "***Seasonal monthly distribution*** "
   ]
  },
  {
   "cell_type": "code",
   "execution_count": 9,
   "id": "7a486d53-d1c7-4398-831e-e8ec8b74fa21",
   "metadata": {},
   "outputs": [
    {
     "data": {
      "image/png": "[encoded data removed]",
      "text/plain": [
       "plot without title"
      ]
     },
     "metadata": {
      "image/png": {
       "height": 420,
       "width": 420
      }
     },
     "output_type": "display_data"
    }
   ],
   "source": [
    "#install.packages(\"ggplot2\")\n",
    "library(\"ggplot2\")\n",
    "ggplot(bike_df, aes(x = factor(month), y = total_count, fill = season)) +\n",
    "  geom_bar(stat = \"identity\", position = \"dodge\") + \n",
    "  scale_fill_brewer(palette = \"Set3\") + \n",
    "  theme_gray() + \n",
    "  theme(axis.text.x = element_text(angle = 45, hjust = 1), \n",
    "        plot.title = element_text(hjust = 0.5), \n",
    "        legend.position = \"top\") +\n",
    "  labs(x = 'Month',\n",
    "       y = 'Total Count',\n",
    "       fill = 'Season',\n",
    "       title = 'Season Wise Monthly Distribution of Counts')"
   ]
  },
  {
   "cell_type": "markdown",
   "id": "282199e7-0686-4151-914a-4d27fd7a0bea",
   "metadata": {},
   "source": [
    "***Weekday monthly distribution***"
   ]
  },
  {
   "cell_type": "code",
   "execution_count": 10,
   "id": "ebe20339-ddbc-4efb-881a-ef70082d1150",
   "metadata": {},
   "outputs": [
    {
     "data": {
      "image/png": "[encoded data removed]",
      "text/plain": [
       "plot without title"
      ]
     },
     "metadata": {
      "image/png": {
       "height": 420,
       "width": 420
      }
     },
     "output_type": "display_data"
    }
   ],
   "source": [
    "ggplot(bike_df, aes(x = factor(month), y = total_count, fill = weekday)) +\n",
    "  geom_bar(stat = \"identity\", position = \"dodge\") + \n",
    "  scale_fill_brewer(palette = \"Spectral\") + \n",
    "  theme_classic() + \n",
    "  theme(axis.text.x = element_text(angle = 45, hjust = 1), \n",
    "        plot.title = element_text(hjust = 0.5), \n",
    "        legend.position = \"top\") + \n",
    "  labs(x = 'Month',\n",
    "       y = 'Total Count',\n",
    "       fill = 'Weekday',\n",
    "       title = 'Weekday Wise Monthly Distribution of Counts')"
   ]
  },
  {
   "cell_type": "markdown",
   "id": "e144da90-ff24-49a8-9eb6-f08c4a537a93",
   "metadata": {},
   "source": [
    "From the above plots, we can observed that increasing the bike rental count in spring and summer season and then decreasing the bike rental count in fall and winter season.\n",
    "Here, season 1 -> spring, season 2 -> summer, season 3 -> fall, season 4 -> winter\n"
   ]
  },
  {
   "cell_type": "markdown",
   "id": "a8fc31ba-9090-436c-9a4d-f304a993db13",
   "metadata": {},
   "source": [
    "**Yearly distribution**"
   ]
  },
  {
   "cell_type": "code",
   "execution_count": 11,
   "id": "802e9015-d425-43c2-82ec-c9185968d932",
   "metadata": {},
   "outputs": [
    {
     "data": {
      "image/png": "[encoded data removed]",
      "text/plain": [
       "plot without title"
      ]
     },
     "metadata": {
      "image/png": {
       "height": 420,
       "width": 420
      }
     },
     "output_type": "display_data"
    }
   ],
   "source": [
    "ggplot(bike_df, aes(x = factor(year), y = total_count, fill = factor(year))) +\n",
    "  geom_bar(stat = \"identity\", position = \"dodge\") + \n",
    "  scale_fill_brewer(palette = \"Dark2\") + \n",
    "  theme_light() + \n",
    "  theme(axis.text.x = element_text(angle = 45, hjust = 1), \n",
    "        plot.title = element_text(hjust = 0.5), \n",
    "        legend.position = \"top\") + \n",
    "  labs(x = 'Year',\n",
    "       y = 'Total Count',\n",
    "       fill = 'Year',\n",
    "       title = 'Yearly Distribution of Counts')"
   ]
  },
  {
   "cell_type": "markdown",
   "id": "40f4aa35-2da2-4f94-9f4f-65790f250082",
   "metadata": {},
   "source": [
    "From above bar plot, we can observed that the bike rental count distribution is highest in year 2012 then the in year 2011.\n",
    "Here, year 0-> 2011, year 1-> 2012"
   ]
  },
  {
   "cell_type": "markdown",
   "id": "4e0f9662-7052-443f-a9c7-884938957e42",
   "metadata": {},
   "source": [
    "**Holiday distribution**"
   ]
  },
  {
   "cell_type": "code",
   "execution_count": 12,
   "id": "51a69f4c-22ca-4914-b5da-ba39ae4f5fe0",
   "metadata": {},
   "outputs": [
    {
     "data": {
      "image/png": "[encoded data removed]",
      "text/plain": [
       "plot without title"
      ]
     },
     "metadata": {
      "image/png": {
       "height": 420,
       "width": 420
      }
     },
     "output_type": "display_data"
    }
   ],
   "source": [
    "ggplot(bike_df, aes(x = factor(holiday), y = total_count, fill = season)) +\n",
    "  geom_bar(stat = \"identity\", position = \"dodge\") + \n",
    "  scale_fill_brewer(palette = \"Paired\") + \n",
    "  theme_minimal() + \n",
    "  theme(axis.text.x = element_text(angle = 45, hjust = 1),\n",
    "        plot.title = element_text(hjust = 0.5), \n",
    "        legend.position = \"top\") + \n",
    "  labs(x = 'Holiday',\n",
    "       y = 'Total Count',\n",
    "       fill = 'Season',\n",
    "       title = 'Distribution of Counts by Holiday')"
   ]
  },
  {
   "cell_type": "markdown",
   "id": "874c95cb-b9c8-4f3d-aa55-0a5ef9e82c5a",
   "metadata": {},
   "source": [
    "From the above plot, we can observed that during no holiday the bike rental counts is highest compared to during holiday for different seasons.\n",
    "Here, 0->No holiday, 1-> holiday\n"
   ]
  },
  {
   "cell_type": "markdown",
   "id": "abffe7cd-2595-42c6-a43b-651aad5d9237",
   "metadata": {},
   "source": [
    "**Working day distribution**"
   ]
  },
  {
   "cell_type": "code",
   "execution_count": 13,
   "id": "7a8f2b5a-2d0e-4118-b1da-e46be9229b2e",
   "metadata": {},
   "outputs": [
    {
     "data": {
      "image/png": "[encoded data removed]",
      "text/plain": [
       "plot without title"
      ]
     },
     "metadata": {
      "image/png": {
       "height": 420,
       "width": 420
      }
     },
     "output_type": "display_data"
    }
   ],
   "source": [
    "ggplot(bike_df, aes(x = factor(workingday), y = total_count, fill = season)) +\n",
    "  geom_col(position = \"dodge\") + \n",
    "  scale_fill_brewer(palette = \"Set2\") + \n",
    "  theme_bw() +\n",
    "  theme(axis.text.x = element_text(angle = 45, hjust = 1), \n",
    "        plot.title = element_text(hjust = 0.5),\n",
    "        legend.position = \"top\") + \n",
    "  labs(x = 'Working Day',\n",
    "       y = 'Total Count',\n",
    "       fill = 'Season',\n",
    "       title = 'Distribution of Counts by Working Day')"
   ]
  },
  {
   "cell_type": "markdown",
   "id": "21107162-0ad5-4c14-818c-784219c1bef0",
   "metadata": {},
   "source": [
    "From the above plot, we can observed that during workingday the bike rental counts is quite highest compared to during no workingday for different seasons.\n",
    "Here, 0-> No workingday, 1-> workingday\n"
   ]
  },
  {
   "cell_type": "markdown",
   "id": "2d9de55c-cdad-4f33-b527-663836355604",
   "metadata": {},
   "source": [
    "**Weather condition distribution**"
   ]
  },
  {
   "cell_type": "code",
   "execution_count": 14,
   "id": "8bebf079-6573-4128-8070-4991283b21b2",
   "metadata": {},
   "outputs": [
    {
     "data": {
      "image/png": "[encoded data removed]",
      "text/plain": [
       "plot without title"
      ]
     },
     "metadata": {
      "image/png": {
       "height": 420,
       "width": 420
      }
     },
     "output_type": "display_data"
    }
   ],
   "source": [
    "ggplot(bike_df, aes(x = weather_condition, y = total_count, fill = season)) +\n",
    "  geom_col() +\n",
    "  scale_fill_brewer(palette = \"Set1\") + \n",
    "  theme_bw() +\n",
    "  theme(axis.text.x = element_text(angle = 45, hjust = 1), \n",
    "        plot.title = element_text(hjust = 0.5)) + \n",
    "  labs(x = 'Weather Condition',\n",
    "       y = 'Total Count',\n",
    "       fill = 'Season',\n",
    "       title = 'Distribution of Counts by Weather Condition')"
   ]
  },
  {
   "cell_type": "markdown",
   "id": "d3953ab1-465e-46cf-8d37-fb79d3c58149",
   "metadata": {},
   "source": [
    "From the above bar plot, we can observed that during clear,partly cloudy weather the bike rental count is highest and the second highest is during mist cloudy weather and followed by third highest during light snow and light rain weather."
   ]
  },
  {
   "cell_type": "markdown",
   "id": "7871bfda-8345-4061-8168-d5082f8e732d",
   "metadata": {},
   "source": [
    "**Outlier Correction**"
   ]
  },
  {
   "cell_type": "code",
   "execution_count": 15,
   "id": "15229c49-a78d-4e25-8e3a-1d9efe83411d",
   "metadata": {},
   "outputs": [
    {
     "data": {
      "image/png": "[encoded data removed]",
      "text/plain": [
       "plot without title"
      ]
     },
     "metadata": {
      "image/png": {
       "height": 420,
       "width": 420
      }
     },
     "output_type": "display_data"
    }
   ],
   "source": [
    "ggplot(bike_df, aes(y = total_count)) + geom_boxplot(fill = \"green\", outlier.color = \"red\", outlier.size = 3) +\n",
    "  labs(title = \"Total_count\", y = \"Count\") +\n",
    "  \n",
    "  theme_minimal()"
   ]
  },
  {
   "cell_type": "markdown",
   "id": "c868b43a-43a7-4361-8cb3-faf411c3a511",
   "metadata": {},
   "source": [
    "From the box plot, we can observed that no outliers are present in total_count variable.\n"
   ]
  },
  {
   "cell_type": "markdown",
   "id": "dba9ddf1-072a-41a7-b36c-16877a944105",
   "metadata": {},
   "source": [
    "***Temp_WindSpeed_Humidity Distribution***\n",
    "<br>Reshaping"
   ]
  },
  {
   "cell_type": "code",
   "execution_count": 16,
   "id": "89377713-6602-49b3-909b-82ebee71d051",
   "metadata": {},
   "outputs": [
    {
     "data": {
      "text/html": [
       "<table class=\"dataframe\">\n",
       "<caption>A data.frame: 5 × 14</caption>\n",
       "<thead>\n",
       "\t<tr><th></th><th scope=col>rec_id</th><th scope=col>datetime</th><th scope=col>season</th><th scope=col>year</th><th scope=col>month</th><th scope=col>holiday</th><th scope=col>weekday</th><th scope=col>workingday</th><th scope=col>weather_condition</th><th scope=col>temp</th><th scope=col>atemp</th><th scope=col>humidity</th><th scope=col>windspeed</th><th scope=col>total_count</th></tr>\n",
       "\t<tr><th></th><th scope=col>&lt;int&gt;</th><th scope=col>&lt;date&gt;</th><th scope=col>&lt;fct&gt;</th><th scope=col>&lt;fct&gt;</th><th scope=col>&lt;fct&gt;</th><th scope=col>&lt;fct&gt;</th><th scope=col>&lt;fct&gt;</th><th scope=col>&lt;fct&gt;</th><th scope=col>&lt;fct&gt;</th><th scope=col>&lt;dbl&gt;</th><th scope=col>&lt;dbl&gt;</th><th scope=col>&lt;dbl&gt;</th><th scope=col>&lt;dbl&gt;</th><th scope=col>&lt;int&gt;</th></tr>\n",
       "</thead>\n",
       "<tbody>\n",
       "\t<tr><th scope=row>1</th><td>1</td><td>0001-01-20</td><td>1</td><td>0</td><td>1</td><td>0</td><td>6</td><td>0</td><td>2</td><td>0.344167</td><td>0.363625</td><td>0.805833</td><td>0.160446</td><td> 985</td></tr>\n",
       "\t<tr><th scope=row>2</th><td>2</td><td>0002-01-20</td><td>1</td><td>0</td><td>1</td><td>0</td><td>0</td><td>0</td><td>2</td><td>0.363478</td><td>0.353739</td><td>0.696087</td><td>0.248539</td><td> 801</td></tr>\n",
       "\t<tr><th scope=row>3</th><td>3</td><td>0003-01-20</td><td>1</td><td>0</td><td>1</td><td>0</td><td>1</td><td>1</td><td>1</td><td>0.196364</td><td>0.189405</td><td>0.437273</td><td>0.248309</td><td>1349</td></tr>\n",
       "\t<tr><th scope=row>4</th><td>4</td><td>0004-01-20</td><td>1</td><td>0</td><td>1</td><td>0</td><td>2</td><td>1</td><td>1</td><td>0.200000</td><td>0.212122</td><td>0.590435</td><td>0.160296</td><td>1562</td></tr>\n",
       "\t<tr><th scope=row>5</th><td>5</td><td>0005-01-20</td><td>1</td><td>0</td><td>1</td><td>0</td><td>3</td><td>1</td><td>1</td><td>0.226957</td><td>0.229270</td><td>0.436957</td><td>0.186900</td><td>1600</td></tr>\n",
       "</tbody>\n",
       "</table>\n"
      ],
      "text/latex": [
       "A data.frame: 5 × 14\n",
       "\\begin{tabular}{r|llllllllllllll}\n",
       "  & rec\\_id & datetime & season & year & month & holiday & weekday & workingday & weather\\_condition & temp & atemp & humidity & windspeed & total\\_count\\\\\n",
       "  & <int> & <date> & <fct> & <fct> & <fct> & <fct> & <fct> & <fct> & <fct> & <dbl> & <dbl> & <dbl> & <dbl> & <int>\\\\\n",
       "\\hline\n",
       "\t1 & 1 & 0001-01-20 & 1 & 0 & 1 & 0 & 6 & 0 & 2 & 0.344167 & 0.363625 & 0.805833 & 0.160446 &  985\\\\\n",
       "\t2 & 2 & 0002-01-20 & 1 & 0 & 1 & 0 & 0 & 0 & 2 & 0.363478 & 0.353739 & 0.696087 & 0.248539 &  801\\\\\n",
       "\t3 & 3 & 0003-01-20 & 1 & 0 & 1 & 0 & 1 & 1 & 1 & 0.196364 & 0.189405 & 0.437273 & 0.248309 & 1349\\\\\n",
       "\t4 & 4 & 0004-01-20 & 1 & 0 & 1 & 0 & 2 & 1 & 1 & 0.200000 & 0.212122 & 0.590435 & 0.160296 & 1562\\\\\n",
       "\t5 & 5 & 0005-01-20 & 1 & 0 & 1 & 0 & 3 & 1 & 1 & 0.226957 & 0.229270 & 0.436957 & 0.186900 & 1600\\\\\n",
       "\\end{tabular}\n"
      ],
      "text/markdown": [
       "\n",
       "A data.frame: 5 × 14\n",
       "\n",
       "| <!--/--> | rec_id &lt;int&gt; | datetime &lt;date&gt; | season &lt;fct&gt; | year &lt;fct&gt; | month &lt;fct&gt; | holiday &lt;fct&gt; | weekday &lt;fct&gt; | workingday &lt;fct&gt; | weather_condition &lt;fct&gt; | temp &lt;dbl&gt; | atemp &lt;dbl&gt; | humidity &lt;dbl&gt; | windspeed &lt;dbl&gt; | total_count &lt;int&gt; |\n",
       "|---|---|---|---|---|---|---|---|---|---|---|---|---|---|---|\n",
       "| 1 | 1 | 0001-01-20 | 1 | 0 | 1 | 0 | 6 | 0 | 2 | 0.344167 | 0.363625 | 0.805833 | 0.160446 |  985 |\n",
       "| 2 | 2 | 0002-01-20 | 1 | 0 | 1 | 0 | 0 | 0 | 2 | 0.363478 | 0.353739 | 0.696087 | 0.248539 |  801 |\n",
       "| 3 | 3 | 0003-01-20 | 1 | 0 | 1 | 0 | 1 | 1 | 1 | 0.196364 | 0.189405 | 0.437273 | 0.248309 | 1349 |\n",
       "| 4 | 4 | 0004-01-20 | 1 | 0 | 1 | 0 | 2 | 1 | 1 | 0.200000 | 0.212122 | 0.590435 | 0.160296 | 1562 |\n",
       "| 5 | 5 | 0005-01-20 | 1 | 0 | 1 | 0 | 3 | 1 | 1 | 0.226957 | 0.229270 | 0.436957 | 0.186900 | 1600 |\n",
       "\n"
      ],
      "text/plain": [
       "  rec_id datetime   season year month holiday weekday workingday\n",
       "1 1      0001-01-20 1      0    1     0       6       0         \n",
       "2 2      0002-01-20 1      0    1     0       0       0         \n",
       "3 3      0003-01-20 1      0    1     0       1       1         \n",
       "4 4      0004-01-20 1      0    1     0       2       1         \n",
       "5 5      0005-01-20 1      0    1     0       3       1         \n",
       "  weather_condition temp     atemp    humidity windspeed total_count\n",
       "1 2                 0.344167 0.363625 0.805833 0.160446   985       \n",
       "2 2                 0.363478 0.353739 0.696087 0.248539   801       \n",
       "3 1                 0.196364 0.189405 0.437273 0.248309  1349       \n",
       "4 1                 0.200000 0.212122 0.590435 0.160296  1562       \n",
       "5 1                 0.226957 0.229270 0.436957 0.186900  1600       "
      ]
     },
     "metadata": {},
     "output_type": "display_data"
    },
    {
     "data": {
      "image/png": "[encoded data removed]",
      "text/plain": [
       "plot without title"
      ]
     },
     "metadata": {
      "image/png": {
       "height": 420,
       "width": 420
      }
     },
     "output_type": "display_data"
    }
   ],
   "source": [
    "bike_long <- reshape2::melt(bike_df, id.vars = \"datetime\", measure.vars = c(\"temp\", \"humidity\", \"windspeed\"))\n",
    "\n",
    "ggplot(bike_long, aes(x = datetime, y = value, fill = variable)) +\n",
    "  geom_boxplot(outlier.shape = NA) +\n",
    "  scale_fill_manual(values = c(\"red\", \"green\", \"blue\")) + \n",
    "  theme_bw() + \n",
    "  labs(x = \"Date\", y = \"Value\", fill = \"Variable\", \n",
    "       title = \"Box plots for temp, humidity, and windspeed\",\n",
    "       subtitle = \"Outliers are removed\") \n",
    "\n",
    "head(bike_df,5)"
   ]
  },
  {
   "cell_type": "markdown",
   "id": "07d88a0e-1648-42ad-bd12-267af6f2a13b",
   "metadata": {},
   "source": [
    "From the box plot, we can observed that no outliers are present in normalized temp but few outliers are present in normalized windspeed and humidity variable.\n"
   ]
  },
  {
   "cell_type": "markdown",
   "id": "af86841e-1f58-406b-819b-09b2912bf25c",
   "metadata": {},
   "source": [
    "**Normal Probability plot**\n",
    "<br>Normal probability plot is a graphical technique to identify substantive departures from normality and also it tells about goodness of fit."
   ]
  },
  {
   "cell_type": "code",
   "execution_count": 17,
   "id": "cf075390-cecd-40ef-a8c3-4d751c0905fc",
   "metadata": {},
   "outputs": [
    {
     "data": {
      "image/png": "[encoded data removed]",
      "text/plain": [
       "plot without title"
      ]
     },
     "metadata": {
      "image/png": {
       "height": 420,
       "width": 420
      }
     },
     "output_type": "display_data"
    }
   ],
   "source": [
    "ggplot(mapping = aes(sample = bike_df$total_count)) +\n",
    "  stat_qq(size = 2, color = \"red\") + \n",
    "  stat_qq_line(color = \"blue\") + \n",
    "  theme_bw() + \n",
    "  labs(x = \"Theoretical Quantiles\", y = \"Total Count\",\n",
    "       title = \"Normal Probability Plot for Total Count\")"
   ]
  },
  {
   "cell_type": "markdown",
   "id": "3d0fc1dc-686c-453b-8f4a-718a1cb0e2b5",
   "metadata": {},
   "source": [
    "From the above probability plot, we can observed that some target variable data points are deviates from normality.\n"
   ]
  },
  {
   "cell_type": "markdown",
   "id": "a4cedb1f-fa6a-4bbb-a7b0-da01686b57d5",
   "metadata": {},
   "source": [
    "**Correlation Matrix**\n",
    "<br>Correlation matrix is tells about linear relationship between attributes and help us to build better models.\n"
   ]
  },
  {
   "cell_type": "code",
   "execution_count": 18,
   "id": "be480749-e47d-47d5-a912-981bb29cea4b",
   "metadata": {},
   "outputs": [
    {
     "data": {
      "image/png": "[encoded data removed]",
      "text/plain": [
       "plot without title"
      ]
     },
     "metadata": {
      "image/png": {
       "height": 420,
       "width": 420
      }
     },
     "output_type": "display_data"
    }
   ],
   "source": [
    "library(ggcorrplot)\n",
    "correlation_matrix <- cor(bike_df[,10:14])\n",
    "\n",
    "#Correlation plot\n",
    "ggcorrplot(correlation_matrix, \n",
    "           hc.order = TRUE, \n",
    "           type = \"lower\", \n",
    "           lab = TRUE, \n",
    "           lab_size = 3, \n",
    "           method=\"circle\", \n",
    "           colors = c(\"#6D9EC1\", \"white\", \"#E46726\"), \n",
    "           title=\"Correlation Plot\") +\n",
    "  theme(plot.title = element_text(hjust = 0.5))\n"
   ]
  },
  {
   "cell_type": "markdown",
   "id": "339b6ea9-74a5-4281-a997-7d9fc65cbc1c",
   "metadata": {},
   "source": [
    "From correlation plot, we can observed that some features are positively correlated and some are negatively correlated to each other. The temp and atemp are highly positively correlated to each other, it means that both are carrying same information. So, we are going to ignore atemp variable for further analysis.\n"
   ]
  },
  {
   "cell_type": "markdown",
   "id": "03b9f827-fcf2-4bed-9655-fad4757de001",
   "metadata": {},
   "source": [
    "**Split the dataset into train and test dataset**"
   ]
  },
  {
   "cell_type": "code",
   "execution_count": 19,
   "id": "58caa346-2fea-45ae-be75-de78ddfe1620",
   "metadata": {},
   "outputs": [
    {
     "data": {
      "text/html": [
       "<style>\n",
       ".list-inline {list-style: none; margin:0; padding: 0}\n",
       ".list-inline>li {display: inline-block}\n",
       ".list-inline>li:not(:last-child)::after {content: \"\\00b7\"; padding: 0 .5ex}\n",
       "</style>\n",
       "<ol class=list-inline><li>511</li><li>14</li></ol>\n"
      ],
      "text/latex": [
       "\\begin{enumerate*}\n",
       "\\item 511\n",
       "\\item 14\n",
       "\\end{enumerate*}\n"
      ],
      "text/markdown": [
       "1. 511\n",
       "2. 14\n",
       "\n",
       "\n"
      ],
      "text/plain": [
       "[1] 511  14"
      ]
     },
     "metadata": {},
     "output_type": "display_data"
    },
    {
     "data": {
      "text/html": [
       "<style>\n",
       ".list-inline {list-style: none; margin:0; padding: 0}\n",
       ".list-inline>li {display: inline-block}\n",
       ".list-inline>li:not(:last-child)::after {content: \"\\00b7\"; padding: 0 .5ex}\n",
       "</style>\n",
       "<ol class=list-inline><li>220</li><li>14</li></ol>\n"
      ],
      "text/latex": [
       "\\begin{enumerate*}\n",
       "\\item 220\n",
       "\\item 14\n",
       "\\end{enumerate*}\n"
      ],
      "text/markdown": [
       "1. 220\n",
       "2. 14\n",
       "\n",
       "\n"
      ],
      "text/plain": [
       "[1] 220  14"
      ]
     },
     "metadata": {},
     "output_type": "display_data"
    }
   ],
   "source": [
    "train_index<-sample(1:nrow(bike_df),0.7*nrow(bike_df))\n",
    "train_data<-bike_df[train_index,]\n",
    "test_data<-bike_df[-train_index,]\n",
    "dim(train_data)\n",
    "dim(test_data)"
   ]
  },
  {
   "cell_type": "markdown",
   "id": "e0ee375a-ce0c-4289-bc21-a6445c464eba",
   "metadata": {},
   "source": [
    "***Train***"
   ]
  },
  {
   "cell_type": "code",
   "execution_count": 20,
   "id": "aba82557-6bef-4a71-9d4f-bb19c0148f1e",
   "metadata": {},
   "outputs": [
    {
     "data": {
      "text/html": [
       "<table class=\"dataframe\">\n",
       "<caption>A data.frame: 5 × 14</caption>\n",
       "<thead>\n",
       "\t<tr><th></th><th scope=col>rec_id</th><th scope=col>datetime</th><th scope=col>season</th><th scope=col>year</th><th scope=col>month</th><th scope=col>holiday</th><th scope=col>weekday</th><th scope=col>workingday</th><th scope=col>weather_condition</th><th scope=col>temp</th><th scope=col>atemp</th><th scope=col>humidity</th><th scope=col>windspeed</th><th scope=col>total_count</th></tr>\n",
       "\t<tr><th></th><th scope=col>&lt;int&gt;</th><th scope=col>&lt;date&gt;</th><th scope=col>&lt;fct&gt;</th><th scope=col>&lt;fct&gt;</th><th scope=col>&lt;fct&gt;</th><th scope=col>&lt;fct&gt;</th><th scope=col>&lt;fct&gt;</th><th scope=col>&lt;fct&gt;</th><th scope=col>&lt;fct&gt;</th><th scope=col>&lt;dbl&gt;</th><th scope=col>&lt;dbl&gt;</th><th scope=col>&lt;dbl&gt;</th><th scope=col>&lt;dbl&gt;</th><th scope=col>&lt;int&gt;</th></tr>\n",
       "</thead>\n",
       "<tbody>\n",
       "\t<tr><th scope=row>172</th><td>172</td><td>0021-06-20</td><td>3</td><td>0</td><td>6</td><td>0</td><td>2</td><td>1</td><td>2</td><td>0.680833</td><td>0.637646</td><td>0.770417</td><td>0.171025</td><td>4835</td></tr>\n",
       "\t<tr><th scope=row>479</th><td>479</td><td>0023-04-20</td><td>2</td><td>1</td><td>4</td><td>0</td><td>1</td><td>1</td><td>2</td><td>0.321667</td><td>0.301125</td><td>0.766667</td><td>0.303496</td><td>3214</td></tr>\n",
       "\t<tr><th scope=row>637</th><td>637</td><td>0028-09-20</td><td>4</td><td>1</td><td>9</td><td>0</td><td>5</td><td>1</td><td>2</td><td>0.619167</td><td>0.585863</td><td>0.690000</td><td>0.164179</td><td>7415</td></tr>\n",
       "\t<tr><th scope=row>1</th><td>  1</td><td>0001-01-20</td><td>1</td><td>0</td><td>1</td><td>0</td><td>6</td><td>0</td><td>2</td><td>0.344167</td><td>0.363625</td><td>0.805833</td><td>0.160446</td><td> 985</td></tr>\n",
       "\t<tr><th scope=row>197</th><td>197</td><td>0016-07-20</td><td>3</td><td>0</td><td>7</td><td>0</td><td>6</td><td>0</td><td>1</td><td>0.686667</td><td>0.638263</td><td>0.585000</td><td>0.208342</td><td>5923</td></tr>\n",
       "</tbody>\n",
       "</table>\n"
      ],
      "text/latex": [
       "A data.frame: 5 × 14\n",
       "\\begin{tabular}{r|llllllllllllll}\n",
       "  & rec\\_id & datetime & season & year & month & holiday & weekday & workingday & weather\\_condition & temp & atemp & humidity & windspeed & total\\_count\\\\\n",
       "  & <int> & <date> & <fct> & <fct> & <fct> & <fct> & <fct> & <fct> & <fct> & <dbl> & <dbl> & <dbl> & <dbl> & <int>\\\\\n",
       "\\hline\n",
       "\t172 & 172 & 0021-06-20 & 3 & 0 & 6 & 0 & 2 & 1 & 2 & 0.680833 & 0.637646 & 0.770417 & 0.171025 & 4835\\\\\n",
       "\t479 & 479 & 0023-04-20 & 2 & 1 & 4 & 0 & 1 & 1 & 2 & 0.321667 & 0.301125 & 0.766667 & 0.303496 & 3214\\\\\n",
       "\t637 & 637 & 0028-09-20 & 4 & 1 & 9 & 0 & 5 & 1 & 2 & 0.619167 & 0.585863 & 0.690000 & 0.164179 & 7415\\\\\n",
       "\t1 &   1 & 0001-01-20 & 1 & 0 & 1 & 0 & 6 & 0 & 2 & 0.344167 & 0.363625 & 0.805833 & 0.160446 &  985\\\\\n",
       "\t197 & 197 & 0016-07-20 & 3 & 0 & 7 & 0 & 6 & 0 & 1 & 0.686667 & 0.638263 & 0.585000 & 0.208342 & 5923\\\\\n",
       "\\end{tabular}\n"
      ],
      "text/markdown": [
       "\n",
       "A data.frame: 5 × 14\n",
       "\n",
       "| <!--/--> | rec_id &lt;int&gt; | datetime &lt;date&gt; | season &lt;fct&gt; | year &lt;fct&gt; | month &lt;fct&gt; | holiday &lt;fct&gt; | weekday &lt;fct&gt; | workingday &lt;fct&gt; | weather_condition &lt;fct&gt; | temp &lt;dbl&gt; | atemp &lt;dbl&gt; | humidity &lt;dbl&gt; | windspeed &lt;dbl&gt; | total_count &lt;int&gt; |\n",
       "|---|---|---|---|---|---|---|---|---|---|---|---|---|---|---|\n",
       "| 172 | 172 | 0021-06-20 | 3 | 0 | 6 | 0 | 2 | 1 | 2 | 0.680833 | 0.637646 | 0.770417 | 0.171025 | 4835 |\n",
       "| 479 | 479 | 0023-04-20 | 2 | 1 | 4 | 0 | 1 | 1 | 2 | 0.321667 | 0.301125 | 0.766667 | 0.303496 | 3214 |\n",
       "| 637 | 637 | 0028-09-20 | 4 | 1 | 9 | 0 | 5 | 1 | 2 | 0.619167 | 0.585863 | 0.690000 | 0.164179 | 7415 |\n",
       "| 1 |   1 | 0001-01-20 | 1 | 0 | 1 | 0 | 6 | 0 | 2 | 0.344167 | 0.363625 | 0.805833 | 0.160446 |  985 |\n",
       "| 197 | 197 | 0016-07-20 | 3 | 0 | 7 | 0 | 6 | 0 | 1 | 0.686667 | 0.638263 | 0.585000 | 0.208342 | 5923 |\n",
       "\n"
      ],
      "text/plain": [
       "    rec_id datetime   season year month holiday weekday workingday\n",
       "172 172    0021-06-20 3      0    6     0       2       1         \n",
       "479 479    0023-04-20 2      1    4     0       1       1         \n",
       "637 637    0028-09-20 4      1    9     0       5       1         \n",
       "1     1    0001-01-20 1      0    1     0       6       0         \n",
       "197 197    0016-07-20 3      0    7     0       6       0         \n",
       "    weather_condition temp     atemp    humidity windspeed total_count\n",
       "172 2                 0.680833 0.637646 0.770417 0.171025  4835       \n",
       "479 2                 0.321667 0.301125 0.766667 0.303496  3214       \n",
       "637 2                 0.619167 0.585863 0.690000 0.164179  7415       \n",
       "1   2                 0.344167 0.363625 0.805833 0.160446   985       \n",
       "197 1                 0.686667 0.638263 0.585000 0.208342  5923       "
      ]
     },
     "metadata": {},
     "output_type": "display_data"
    }
   ],
   "source": [
    "head(train_data,5)"
   ]
  },
  {
   "cell_type": "markdown",
   "id": "1a01bd94-9e24-47fa-9945-9807513c15e6",
   "metadata": {},
   "source": [
    "***Test***"
   ]
  },
  {
   "cell_type": "code",
   "execution_count": 21,
   "id": "ff31d1cb-62cf-4aba-aff0-d6dff766bd48",
   "metadata": {},
   "outputs": [
    {
     "data": {
      "text/html": [
       "<table class=\"dataframe\">\n",
       "<caption>A data.frame: 5 × 14</caption>\n",
       "<thead>\n",
       "\t<tr><th></th><th scope=col>rec_id</th><th scope=col>datetime</th><th scope=col>season</th><th scope=col>year</th><th scope=col>month</th><th scope=col>holiday</th><th scope=col>weekday</th><th scope=col>workingday</th><th scope=col>weather_condition</th><th scope=col>temp</th><th scope=col>atemp</th><th scope=col>humidity</th><th scope=col>windspeed</th><th scope=col>total_count</th></tr>\n",
       "\t<tr><th></th><th scope=col>&lt;int&gt;</th><th scope=col>&lt;date&gt;</th><th scope=col>&lt;fct&gt;</th><th scope=col>&lt;fct&gt;</th><th scope=col>&lt;fct&gt;</th><th scope=col>&lt;fct&gt;</th><th scope=col>&lt;fct&gt;</th><th scope=col>&lt;fct&gt;</th><th scope=col>&lt;fct&gt;</th><th scope=col>&lt;dbl&gt;</th><th scope=col>&lt;dbl&gt;</th><th scope=col>&lt;dbl&gt;</th><th scope=col>&lt;dbl&gt;</th><th scope=col>&lt;int&gt;</th></tr>\n",
       "</thead>\n",
       "<tbody>\n",
       "\t<tr><th scope=row>3</th><td> 3</td><td>0003-01-20</td><td>1</td><td>0</td><td>1</td><td>0</td><td>1</td><td>1</td><td>1</td><td>0.196364</td><td>0.189405</td><td>0.437273</td><td>0.2483090</td><td>1349</td></tr>\n",
       "\t<tr><th scope=row>6</th><td> 6</td><td>0006-01-20</td><td>1</td><td>0</td><td>1</td><td>0</td><td>4</td><td>1</td><td>1</td><td>0.204348</td><td>0.233209</td><td>0.518261</td><td>0.0895652</td><td>1606</td></tr>\n",
       "\t<tr><th scope=row>12</th><td>12</td><td>0012-01-20</td><td>1</td><td>0</td><td>1</td><td>0</td><td>3</td><td>1</td><td>1</td><td>0.172727</td><td>0.160473</td><td>0.599545</td><td>0.3046270</td><td>1162</td></tr>\n",
       "\t<tr><th scope=row>20</th><td>20</td><td>0020-01-20</td><td>1</td><td>0</td><td>1</td><td>0</td><td>4</td><td>1</td><td>2</td><td>0.261667</td><td>0.255050</td><td>0.538333</td><td>0.1959040</td><td>1927</td></tr>\n",
       "\t<tr><th scope=row>28</th><td>28</td><td>0028-01-20</td><td>1</td><td>0</td><td>1</td><td>0</td><td>5</td><td>1</td><td>2</td><td>0.203478</td><td>0.223317</td><td>0.793043</td><td>0.1233000</td><td>1167</td></tr>\n",
       "</tbody>\n",
       "</table>\n"
      ],
      "text/latex": [
       "A data.frame: 5 × 14\n",
       "\\begin{tabular}{r|llllllllllllll}\n",
       "  & rec\\_id & datetime & season & year & month & holiday & weekday & workingday & weather\\_condition & temp & atemp & humidity & windspeed & total\\_count\\\\\n",
       "  & <int> & <date> & <fct> & <fct> & <fct> & <fct> & <fct> & <fct> & <fct> & <dbl> & <dbl> & <dbl> & <dbl> & <int>\\\\\n",
       "\\hline\n",
       "\t3 &  3 & 0003-01-20 & 1 & 0 & 1 & 0 & 1 & 1 & 1 & 0.196364 & 0.189405 & 0.437273 & 0.2483090 & 1349\\\\\n",
       "\t6 &  6 & 0006-01-20 & 1 & 0 & 1 & 0 & 4 & 1 & 1 & 0.204348 & 0.233209 & 0.518261 & 0.0895652 & 1606\\\\\n",
       "\t12 & 12 & 0012-01-20 & 1 & 0 & 1 & 0 & 3 & 1 & 1 & 0.172727 & 0.160473 & 0.599545 & 0.3046270 & 1162\\\\\n",
       "\t20 & 20 & 0020-01-20 & 1 & 0 & 1 & 0 & 4 & 1 & 2 & 0.261667 & 0.255050 & 0.538333 & 0.1959040 & 1927\\\\\n",
       "\t28 & 28 & 0028-01-20 & 1 & 0 & 1 & 0 & 5 & 1 & 2 & 0.203478 & 0.223317 & 0.793043 & 0.1233000 & 1167\\\\\n",
       "\\end{tabular}\n"
      ],
      "text/markdown": [
       "\n",
       "A data.frame: 5 × 14\n",
       "\n",
       "| <!--/--> | rec_id &lt;int&gt; | datetime &lt;date&gt; | season &lt;fct&gt; | year &lt;fct&gt; | month &lt;fct&gt; | holiday &lt;fct&gt; | weekday &lt;fct&gt; | workingday &lt;fct&gt; | weather_condition &lt;fct&gt; | temp &lt;dbl&gt; | atemp &lt;dbl&gt; | humidity &lt;dbl&gt; | windspeed &lt;dbl&gt; | total_count &lt;int&gt; |\n",
       "|---|---|---|---|---|---|---|---|---|---|---|---|---|---|---|\n",
       "| 3 |  3 | 0003-01-20 | 1 | 0 | 1 | 0 | 1 | 1 | 1 | 0.196364 | 0.189405 | 0.437273 | 0.2483090 | 1349 |\n",
       "| 6 |  6 | 0006-01-20 | 1 | 0 | 1 | 0 | 4 | 1 | 1 | 0.204348 | 0.233209 | 0.518261 | 0.0895652 | 1606 |\n",
       "| 12 | 12 | 0012-01-20 | 1 | 0 | 1 | 0 | 3 | 1 | 1 | 0.172727 | 0.160473 | 0.599545 | 0.3046270 | 1162 |\n",
       "| 20 | 20 | 0020-01-20 | 1 | 0 | 1 | 0 | 4 | 1 | 2 | 0.261667 | 0.255050 | 0.538333 | 0.1959040 | 1927 |\n",
       "| 28 | 28 | 0028-01-20 | 1 | 0 | 1 | 0 | 5 | 1 | 2 | 0.203478 | 0.223317 | 0.793043 | 0.1233000 | 1167 |\n",
       "\n"
      ],
      "text/plain": [
       "   rec_id datetime   season year month holiday weekday workingday\n",
       "3   3     0003-01-20 1      0    1     0       1       1         \n",
       "6   6     0006-01-20 1      0    1     0       4       1         \n",
       "12 12     0012-01-20 1      0    1     0       3       1         \n",
       "20 20     0020-01-20 1      0    1     0       4       1         \n",
       "28 28     0028-01-20 1      0    1     0       5       1         \n",
       "   weather_condition temp     atemp    humidity windspeed total_count\n",
       "3  1                 0.196364 0.189405 0.437273 0.2483090 1349       \n",
       "6  1                 0.204348 0.233209 0.518261 0.0895652 1606       \n",
       "12 1                 0.172727 0.160473 0.599545 0.3046270 1162       \n",
       "20 2                 0.261667 0.255050 0.538333 0.1959040 1927       \n",
       "28 2                 0.203478 0.223317 0.793043 0.1233000 1167       "
      ]
     },
     "metadata": {},
     "output_type": "display_data"
    }
   ],
   "source": [
    "head(test_data,5)"
   ]
  },
  {
   "cell_type": "markdown",
   "id": "b61270c3-9aa6-400b-9c4c-4710b3a9abe7",
   "metadata": {},
   "source": [
    "***Selection of Required Variables***"
   ]
  },
  {
   "cell_type": "markdown",
   "id": "be3528eb-fee6-42d6-8c19-b68436af11f0",
   "metadata": {},
   "source": [
    "Train"
   ]
  },
  {
   "cell_type": "code",
   "execution_count": 22,
   "id": "ed2f113b-099c-4193-931a-9c24fbf62896",
   "metadata": {},
   "outputs": [
    {
     "data": {
      "text/html": [
       "<table class=\"dataframe\">\n",
       "<caption>A data.frame: 5 × 11</caption>\n",
       "<thead>\n",
       "\t<tr><th></th><th scope=col>season</th><th scope=col>year</th><th scope=col>month</th><th scope=col>holiday</th><th scope=col>weekday</th><th scope=col>workingday</th><th scope=col>weather_condition</th><th scope=col>temp</th><th scope=col>humidity</th><th scope=col>windspeed</th><th scope=col>total_count</th></tr>\n",
       "\t<tr><th></th><th scope=col>&lt;fct&gt;</th><th scope=col>&lt;fct&gt;</th><th scope=col>&lt;fct&gt;</th><th scope=col>&lt;fct&gt;</th><th scope=col>&lt;fct&gt;</th><th scope=col>&lt;fct&gt;</th><th scope=col>&lt;fct&gt;</th><th scope=col>&lt;dbl&gt;</th><th scope=col>&lt;dbl&gt;</th><th scope=col>&lt;dbl&gt;</th><th scope=col>&lt;int&gt;</th></tr>\n",
       "</thead>\n",
       "<tbody>\n",
       "\t<tr><th scope=row>172</th><td>3</td><td>0</td><td>6</td><td>0</td><td>2</td><td>1</td><td>2</td><td>0.680833</td><td>0.770417</td><td>0.171025</td><td>4835</td></tr>\n",
       "\t<tr><th scope=row>479</th><td>2</td><td>1</td><td>4</td><td>0</td><td>1</td><td>1</td><td>2</td><td>0.321667</td><td>0.766667</td><td>0.303496</td><td>3214</td></tr>\n",
       "\t<tr><th scope=row>637</th><td>4</td><td>1</td><td>9</td><td>0</td><td>5</td><td>1</td><td>2</td><td>0.619167</td><td>0.690000</td><td>0.164179</td><td>7415</td></tr>\n",
       "\t<tr><th scope=row>1</th><td>1</td><td>0</td><td>1</td><td>0</td><td>6</td><td>0</td><td>2</td><td>0.344167</td><td>0.805833</td><td>0.160446</td><td> 985</td></tr>\n",
       "\t<tr><th scope=row>197</th><td>3</td><td>0</td><td>7</td><td>0</td><td>6</td><td>0</td><td>1</td><td>0.686667</td><td>0.585000</td><td>0.208342</td><td>5923</td></tr>\n",
       "</tbody>\n",
       "</table>\n"
      ],
      "text/latex": [
       "A data.frame: 5 × 11\n",
       "\\begin{tabular}{r|lllllllllll}\n",
       "  & season & year & month & holiday & weekday & workingday & weather\\_condition & temp & humidity & windspeed & total\\_count\\\\\n",
       "  & <fct> & <fct> & <fct> & <fct> & <fct> & <fct> & <fct> & <dbl> & <dbl> & <dbl> & <int>\\\\\n",
       "\\hline\n",
       "\t172 & 3 & 0 & 6 & 0 & 2 & 1 & 2 & 0.680833 & 0.770417 & 0.171025 & 4835\\\\\n",
       "\t479 & 2 & 1 & 4 & 0 & 1 & 1 & 2 & 0.321667 & 0.766667 & 0.303496 & 3214\\\\\n",
       "\t637 & 4 & 1 & 9 & 0 & 5 & 1 & 2 & 0.619167 & 0.690000 & 0.164179 & 7415\\\\\n",
       "\t1 & 1 & 0 & 1 & 0 & 6 & 0 & 2 & 0.344167 & 0.805833 & 0.160446 &  985\\\\\n",
       "\t197 & 3 & 0 & 7 & 0 & 6 & 0 & 1 & 0.686667 & 0.585000 & 0.208342 & 5923\\\\\n",
       "\\end{tabular}\n"
      ],
      "text/markdown": [
       "\n",
       "A data.frame: 5 × 11\n",
       "\n",
       "| <!--/--> | season &lt;fct&gt; | year &lt;fct&gt; | month &lt;fct&gt; | holiday &lt;fct&gt; | weekday &lt;fct&gt; | workingday &lt;fct&gt; | weather_condition &lt;fct&gt; | temp &lt;dbl&gt; | humidity &lt;dbl&gt; | windspeed &lt;dbl&gt; | total_count &lt;int&gt; |\n",
       "|---|---|---|---|---|---|---|---|---|---|---|---|\n",
       "| 172 | 3 | 0 | 6 | 0 | 2 | 1 | 2 | 0.680833 | 0.770417 | 0.171025 | 4835 |\n",
       "| 479 | 2 | 1 | 4 | 0 | 1 | 1 | 2 | 0.321667 | 0.766667 | 0.303496 | 3214 |\n",
       "| 637 | 4 | 1 | 9 | 0 | 5 | 1 | 2 | 0.619167 | 0.690000 | 0.164179 | 7415 |\n",
       "| 1 | 1 | 0 | 1 | 0 | 6 | 0 | 2 | 0.344167 | 0.805833 | 0.160446 |  985 |\n",
       "| 197 | 3 | 0 | 7 | 0 | 6 | 0 | 1 | 0.686667 | 0.585000 | 0.208342 | 5923 |\n",
       "\n"
      ],
      "text/plain": [
       "    season year month holiday weekday workingday weather_condition temp    \n",
       "172 3      0    6     0       2       1          2                 0.680833\n",
       "479 2      1    4     0       1       1          2                 0.321667\n",
       "637 4      1    9     0       5       1          2                 0.619167\n",
       "1   1      0    1     0       6       0          2                 0.344167\n",
       "197 3      0    7     0       6       0          1                 0.686667\n",
       "    humidity windspeed total_count\n",
       "172 0.770417 0.171025  4835       \n",
       "479 0.766667 0.303496  3214       \n",
       "637 0.690000 0.164179  7415       \n",
       "1   0.805833 0.160446   985       \n",
       "197 0.585000 0.208342  5923       "
      ]
     },
     "metadata": {},
     "output_type": "display_data"
    }
   ],
   "source": [
    "train<-subset(train_data,select=c('season','year','month','holiday', 'weekday','workingday','weather_condition','temp','humidity','windspeed','total_count'))\n",
    "head(train,5)"
   ]
  },
  {
   "cell_type": "markdown",
   "id": "68067c1e-e4a6-4c87-9b3d-7fccb16ead6e",
   "metadata": {},
   "source": [
    "Test"
   ]
  },
  {
   "cell_type": "code",
   "execution_count": 23,
   "id": "f814207d-b032-4f23-a9ec-e304281961ee",
   "metadata": {},
   "outputs": [
    {
     "data": {
      "text/html": [
       "<table class=\"dataframe\">\n",
       "<caption>A data.frame: 5 × 11</caption>\n",
       "<thead>\n",
       "\t<tr><th></th><th scope=col>season</th><th scope=col>year</th><th scope=col>month</th><th scope=col>holiday</th><th scope=col>weekday</th><th scope=col>workingday</th><th scope=col>weather_condition</th><th scope=col>temp</th><th scope=col>humidity</th><th scope=col>windspeed</th><th scope=col>total_count</th></tr>\n",
       "\t<tr><th></th><th scope=col>&lt;fct&gt;</th><th scope=col>&lt;fct&gt;</th><th scope=col>&lt;fct&gt;</th><th scope=col>&lt;fct&gt;</th><th scope=col>&lt;fct&gt;</th><th scope=col>&lt;fct&gt;</th><th scope=col>&lt;fct&gt;</th><th scope=col>&lt;dbl&gt;</th><th scope=col>&lt;dbl&gt;</th><th scope=col>&lt;dbl&gt;</th><th scope=col>&lt;int&gt;</th></tr>\n",
       "</thead>\n",
       "<tbody>\n",
       "\t<tr><th scope=row>3</th><td>1</td><td>0</td><td>1</td><td>0</td><td>1</td><td>1</td><td>1</td><td>0.196364</td><td>0.437273</td><td>0.2483090</td><td>1349</td></tr>\n",
       "\t<tr><th scope=row>6</th><td>1</td><td>0</td><td>1</td><td>0</td><td>4</td><td>1</td><td>1</td><td>0.204348</td><td>0.518261</td><td>0.0895652</td><td>1606</td></tr>\n",
       "\t<tr><th scope=row>12</th><td>1</td><td>0</td><td>1</td><td>0</td><td>3</td><td>1</td><td>1</td><td>0.172727</td><td>0.599545</td><td>0.3046270</td><td>1162</td></tr>\n",
       "\t<tr><th scope=row>20</th><td>1</td><td>0</td><td>1</td><td>0</td><td>4</td><td>1</td><td>2</td><td>0.261667</td><td>0.538333</td><td>0.1959040</td><td>1927</td></tr>\n",
       "\t<tr><th scope=row>28</th><td>1</td><td>0</td><td>1</td><td>0</td><td>5</td><td>1</td><td>2</td><td>0.203478</td><td>0.793043</td><td>0.1233000</td><td>1167</td></tr>\n",
       "</tbody>\n",
       "</table>\n"
      ],
      "text/latex": [
       "A data.frame: 5 × 11\n",
       "\\begin{tabular}{r|lllllllllll}\n",
       "  & season & year & month & holiday & weekday & workingday & weather\\_condition & temp & humidity & windspeed & total\\_count\\\\\n",
       "  & <fct> & <fct> & <fct> & <fct> & <fct> & <fct> & <fct> & <dbl> & <dbl> & <dbl> & <int>\\\\\n",
       "\\hline\n",
       "\t3 & 1 & 0 & 1 & 0 & 1 & 1 & 1 & 0.196364 & 0.437273 & 0.2483090 & 1349\\\\\n",
       "\t6 & 1 & 0 & 1 & 0 & 4 & 1 & 1 & 0.204348 & 0.518261 & 0.0895652 & 1606\\\\\n",
       "\t12 & 1 & 0 & 1 & 0 & 3 & 1 & 1 & 0.172727 & 0.599545 & 0.3046270 & 1162\\\\\n",
       "\t20 & 1 & 0 & 1 & 0 & 4 & 1 & 2 & 0.261667 & 0.538333 & 0.1959040 & 1927\\\\\n",
       "\t28 & 1 & 0 & 1 & 0 & 5 & 1 & 2 & 0.203478 & 0.793043 & 0.1233000 & 1167\\\\\n",
       "\\end{tabular}\n"
      ],
      "text/markdown": [
       "\n",
       "A data.frame: 5 × 11\n",
       "\n",
       "| <!--/--> | season &lt;fct&gt; | year &lt;fct&gt; | month &lt;fct&gt; | holiday &lt;fct&gt; | weekday &lt;fct&gt; | workingday &lt;fct&gt; | weather_condition &lt;fct&gt; | temp &lt;dbl&gt; | humidity &lt;dbl&gt; | windspeed &lt;dbl&gt; | total_count &lt;int&gt; |\n",
       "|---|---|---|---|---|---|---|---|---|---|---|---|\n",
       "| 3 | 1 | 0 | 1 | 0 | 1 | 1 | 1 | 0.196364 | 0.437273 | 0.2483090 | 1349 |\n",
       "| 6 | 1 | 0 | 1 | 0 | 4 | 1 | 1 | 0.204348 | 0.518261 | 0.0895652 | 1606 |\n",
       "| 12 | 1 | 0 | 1 | 0 | 3 | 1 | 1 | 0.172727 | 0.599545 | 0.3046270 | 1162 |\n",
       "| 20 | 1 | 0 | 1 | 0 | 4 | 1 | 2 | 0.261667 | 0.538333 | 0.1959040 | 1927 |\n",
       "| 28 | 1 | 0 | 1 | 0 | 5 | 1 | 2 | 0.203478 | 0.793043 | 0.1233000 | 1167 |\n",
       "\n"
      ],
      "text/plain": [
       "   season year month holiday weekday workingday weather_condition temp    \n",
       "3  1      0    1     0       1       1          1                 0.196364\n",
       "6  1      0    1     0       4       1          1                 0.204348\n",
       "12 1      0    1     0       3       1          1                 0.172727\n",
       "20 1      0    1     0       4       1          2                 0.261667\n",
       "28 1      0    1     0       5       1          2                 0.203478\n",
       "   humidity windspeed total_count\n",
       "3  0.437273 0.2483090 1349       \n",
       "6  0.518261 0.0895652 1606       \n",
       "12 0.599545 0.3046270 1162       \n",
       "20 0.538333 0.1959040 1927       \n",
       "28 0.793043 0.1233000 1167       "
      ]
     },
     "metadata": {},
     "output_type": "display_data"
    }
   ],
   "source": [
    "test<-subset(test_data,select=c('season','year','month','holiday','weekday','workingday','weather_condition','temp','humidity','windspeed','total_count'))\n",
    "head(test,5)"
   ]
  },
  {
   "cell_type": "markdown",
   "id": "fbb38863-dbf2-46c2-a3e9-8d6575e560fe",
   "metadata": {},
   "source": [
    "***Train and test categorical and numerical attributes***\n"
   ]
  },
  {
   "cell_type": "code",
   "execution_count": 24,
   "id": "9ee3330c-4c5e-40a6-9b87-a62938eb6142",
   "metadata": {},
   "outputs": [],
   "source": [
    "train_cat_attributes<-subset(train,select=c('season','holiday','workingday','weather_condition','year'))\n",
    "test_cat_attributes<-subset(test,select=c('season','holiday','workingday','weather_condition','year'))\n",
    "train_num_attributes<-subset(train,select=c('weekday','month','temp','humidity','windspeed','total_count'))\n",
    "test_num_attributes<-subset(test,select=c('weekday','month','temp', 'humidity','windspeed','total_count'))"
   ]
  },
  {
   "cell_type": "markdown",
   "id": "c104e201-1ed6-4bbd-aa93-15857e258827",
   "metadata": {},
   "source": [
    "**Encoding the categorical features**\n",
    "\n"
   ]
  },
  {
   "cell_type": "markdown",
   "id": "bba9a8fb-929b-4c07-b704-3d1a176338dc",
   "metadata": {},
   "source": [
    "***Train_encoded_attributes***"
   ]
  },
  {
   "cell_type": "code",
   "execution_count": 25,
   "id": "cc7b6ad4-7c25-4a81-a9c3-744a3fc0d26c",
   "metadata": {},
   "outputs": [
    {
     "name": "stderr",
     "output_type": "stream",
     "text": [
      "Warning message:\n",
      "\"package 'caret' was built under R version 4.1.3\"\n",
      "Loading required package: lattice\n",
      "\n",
      "Warning message:\n",
      "\"package 'lattice' was built under R version 4.1.3\"\n"
     ]
    },
    {
     "data": {
      "text/html": [
       "<table class=\"dataframe\">\n",
       "<caption>A data.frame: 5 × 19</caption>\n",
       "<thead>\n",
       "\t<tr><th></th><th scope=col>weekday</th><th scope=col>month</th><th scope=col>temp</th><th scope=col>humidity</th><th scope=col>windspeed</th><th scope=col>total_count</th><th scope=col>season.1</th><th scope=col>season.2</th><th scope=col>season.3</th><th scope=col>season.4</th><th scope=col>year.0</th><th scope=col>year.1</th><th scope=col>holiday.0</th><th scope=col>holiday.1</th><th scope=col>workingday.0</th><th scope=col>workingday.1</th><th scope=col>weather_condition.1</th><th scope=col>weather_condition.2</th><th scope=col>weather_condition.3</th></tr>\n",
       "\t<tr><th></th><th scope=col>&lt;fct&gt;</th><th scope=col>&lt;fct&gt;</th><th scope=col>&lt;dbl&gt;</th><th scope=col>&lt;dbl&gt;</th><th scope=col>&lt;dbl&gt;</th><th scope=col>&lt;int&gt;</th><th scope=col>&lt;dbl&gt;</th><th scope=col>&lt;dbl&gt;</th><th scope=col>&lt;dbl&gt;</th><th scope=col>&lt;dbl&gt;</th><th scope=col>&lt;dbl&gt;</th><th scope=col>&lt;dbl&gt;</th><th scope=col>&lt;dbl&gt;</th><th scope=col>&lt;dbl&gt;</th><th scope=col>&lt;dbl&gt;</th><th scope=col>&lt;dbl&gt;</th><th scope=col>&lt;dbl&gt;</th><th scope=col>&lt;dbl&gt;</th><th scope=col>&lt;dbl&gt;</th></tr>\n",
       "</thead>\n",
       "<tbody>\n",
       "\t<tr><th scope=row>172</th><td>2</td><td>6</td><td>0.680833</td><td>0.770417</td><td>0.171025</td><td>4835</td><td>0</td><td>0</td><td>1</td><td>0</td><td>1</td><td>0</td><td>1</td><td>0</td><td>0</td><td>1</td><td>0</td><td>1</td><td>0</td></tr>\n",
       "\t<tr><th scope=row>479</th><td>1</td><td>4</td><td>0.321667</td><td>0.766667</td><td>0.303496</td><td>3214</td><td>0</td><td>1</td><td>0</td><td>0</td><td>0</td><td>1</td><td>1</td><td>0</td><td>0</td><td>1</td><td>0</td><td>1</td><td>0</td></tr>\n",
       "\t<tr><th scope=row>637</th><td>5</td><td>9</td><td>0.619167</td><td>0.690000</td><td>0.164179</td><td>7415</td><td>0</td><td>0</td><td>0</td><td>1</td><td>0</td><td>1</td><td>1</td><td>0</td><td>0</td><td>1</td><td>0</td><td>1</td><td>0</td></tr>\n",
       "\t<tr><th scope=row>1</th><td>6</td><td>1</td><td>0.344167</td><td>0.805833</td><td>0.160446</td><td> 985</td><td>1</td><td>0</td><td>0</td><td>0</td><td>1</td><td>0</td><td>1</td><td>0</td><td>1</td><td>0</td><td>0</td><td>1</td><td>0</td></tr>\n",
       "\t<tr><th scope=row>197</th><td>6</td><td>7</td><td>0.686667</td><td>0.585000</td><td>0.208342</td><td>5923</td><td>0</td><td>0</td><td>1</td><td>0</td><td>1</td><td>0</td><td>1</td><td>0</td><td>1</td><td>0</td><td>1</td><td>0</td><td>0</td></tr>\n",
       "</tbody>\n",
       "</table>\n"
      ],
      "text/latex": [
       "A data.frame: 5 × 19\n",
       "\\begin{tabular}{r|lllllllllllllllllll}\n",
       "  & weekday & month & temp & humidity & windspeed & total\\_count & season.1 & season.2 & season.3 & season.4 & year.0 & year.1 & holiday.0 & holiday.1 & workingday.0 & workingday.1 & weather\\_condition.1 & weather\\_condition.2 & weather\\_condition.3\\\\\n",
       "  & <fct> & <fct> & <dbl> & <dbl> & <dbl> & <int> & <dbl> & <dbl> & <dbl> & <dbl> & <dbl> & <dbl> & <dbl> & <dbl> & <dbl> & <dbl> & <dbl> & <dbl> & <dbl>\\\\\n",
       "\\hline\n",
       "\t172 & 2 & 6 & 0.680833 & 0.770417 & 0.171025 & 4835 & 0 & 0 & 1 & 0 & 1 & 0 & 1 & 0 & 0 & 1 & 0 & 1 & 0\\\\\n",
       "\t479 & 1 & 4 & 0.321667 & 0.766667 & 0.303496 & 3214 & 0 & 1 & 0 & 0 & 0 & 1 & 1 & 0 & 0 & 1 & 0 & 1 & 0\\\\\n",
       "\t637 & 5 & 9 & 0.619167 & 0.690000 & 0.164179 & 7415 & 0 & 0 & 0 & 1 & 0 & 1 & 1 & 0 & 0 & 1 & 0 & 1 & 0\\\\\n",
       "\t1 & 6 & 1 & 0.344167 & 0.805833 & 0.160446 &  985 & 1 & 0 & 0 & 0 & 1 & 0 & 1 & 0 & 1 & 0 & 0 & 1 & 0\\\\\n",
       "\t197 & 6 & 7 & 0.686667 & 0.585000 & 0.208342 & 5923 & 0 & 0 & 1 & 0 & 1 & 0 & 1 & 0 & 1 & 0 & 1 & 0 & 0\\\\\n",
       "\\end{tabular}\n"
      ],
      "text/markdown": [
       "\n",
       "A data.frame: 5 × 19\n",
       "\n",
       "| <!--/--> | weekday &lt;fct&gt; | month &lt;fct&gt; | temp &lt;dbl&gt; | humidity &lt;dbl&gt; | windspeed &lt;dbl&gt; | total_count &lt;int&gt; | season.1 &lt;dbl&gt; | season.2 &lt;dbl&gt; | season.3 &lt;dbl&gt; | season.4 &lt;dbl&gt; | year.0 &lt;dbl&gt; | year.1 &lt;dbl&gt; | holiday.0 &lt;dbl&gt; | holiday.1 &lt;dbl&gt; | workingday.0 &lt;dbl&gt; | workingday.1 &lt;dbl&gt; | weather_condition.1 &lt;dbl&gt; | weather_condition.2 &lt;dbl&gt; | weather_condition.3 &lt;dbl&gt; |\n",
       "|---|---|---|---|---|---|---|---|---|---|---|---|---|---|---|---|---|---|---|---|\n",
       "| 172 | 2 | 6 | 0.680833 | 0.770417 | 0.171025 | 4835 | 0 | 0 | 1 | 0 | 1 | 0 | 1 | 0 | 0 | 1 | 0 | 1 | 0 |\n",
       "| 479 | 1 | 4 | 0.321667 | 0.766667 | 0.303496 | 3214 | 0 | 1 | 0 | 0 | 0 | 1 | 1 | 0 | 0 | 1 | 0 | 1 | 0 |\n",
       "| 637 | 5 | 9 | 0.619167 | 0.690000 | 0.164179 | 7415 | 0 | 0 | 0 | 1 | 0 | 1 | 1 | 0 | 0 | 1 | 0 | 1 | 0 |\n",
       "| 1 | 6 | 1 | 0.344167 | 0.805833 | 0.160446 |  985 | 1 | 0 | 0 | 0 | 1 | 0 | 1 | 0 | 1 | 0 | 0 | 1 | 0 |\n",
       "| 197 | 6 | 7 | 0.686667 | 0.585000 | 0.208342 | 5923 | 0 | 0 | 1 | 0 | 1 | 0 | 1 | 0 | 1 | 0 | 1 | 0 | 0 |\n",
       "\n"
      ],
      "text/plain": [
       "    weekday month temp     humidity windspeed total_count season.1 season.2\n",
       "172 2       6     0.680833 0.770417 0.171025  4835        0        0       \n",
       "479 1       4     0.321667 0.766667 0.303496  3214        0        1       \n",
       "637 5       9     0.619167 0.690000 0.164179  7415        0        0       \n",
       "1   6       1     0.344167 0.805833 0.160446   985        1        0       \n",
       "197 6       7     0.686667 0.585000 0.208342  5923        0        0       \n",
       "    season.3 season.4 year.0 year.1 holiday.0 holiday.1 workingday.0\n",
       "172 1        0        1      0      1         0         0           \n",
       "479 0        0        0      1      1         0         0           \n",
       "637 0        1        0      1      1         0         0           \n",
       "1   0        0        1      0      1         0         1           \n",
       "197 1        0        1      0      1         0         1           \n",
       "    workingday.1 weather_condition.1 weather_condition.2 weather_condition.3\n",
       "172 1            0                   1                   0                  \n",
       "479 1            0                   1                   0                  \n",
       "637 1            0                   1                   0                  \n",
       "1   0            0                   1                   0                  \n",
       "197 0            1                   0                   0                  "
      ]
     },
     "metadata": {},
     "output_type": "display_data"
    }
   ],
   "source": [
    "library(caret)\n",
    "\n",
    "othervars <- c('month', 'weekday', 'temp', 'humidity', 'windspeed', 'total_count')\n",
    "set.seed(2626)\n",
    "\n",
    "vars <- setdiff(colnames(train), c(\"total_count\", othervars))\n",
    "f <- paste('~', paste(vars, collapse = ' + '))\n",
    "encoder <- dummyVars(as.formula(f), train)\n",
    "encode_attributes <- predict(encoder, train)\n",
    "train_encoded_attributes <- cbind(train_num_attributes, encode_attributes)\n",
    "head(train_encoded_attributes, 5)\n"
   ]
  },
  {
   "cell_type": "markdown",
   "id": "315f9bc6-c910-461c-90ac-54dfa6f281e9",
   "metadata": {},
   "source": [
    "***Test_encoded_attributes***"
   ]
  },
  {
   "cell_type": "code",
   "execution_count": 26,
   "id": "c2ced9c6-185a-42c0-beb7-9a299e122657",
   "metadata": {},
   "outputs": [
    {
     "data": {
      "text/html": [
       "<table class=\"dataframe\">\n",
       "<caption>A data.frame: 5 × 19</caption>\n",
       "<thead>\n",
       "\t<tr><th></th><th scope=col>weekday</th><th scope=col>month</th><th scope=col>temp</th><th scope=col>humidity</th><th scope=col>windspeed</th><th scope=col>total_count</th><th scope=col>season.1</th><th scope=col>season.2</th><th scope=col>season.3</th><th scope=col>season.4</th><th scope=col>year.0</th><th scope=col>year.1</th><th scope=col>holiday.0</th><th scope=col>holiday.1</th><th scope=col>workingday.0</th><th scope=col>workingday.1</th><th scope=col>weather_condition.1</th><th scope=col>weather_condition.2</th><th scope=col>weather_condition.3</th></tr>\n",
       "\t<tr><th></th><th scope=col>&lt;fct&gt;</th><th scope=col>&lt;fct&gt;</th><th scope=col>&lt;dbl&gt;</th><th scope=col>&lt;dbl&gt;</th><th scope=col>&lt;dbl&gt;</th><th scope=col>&lt;int&gt;</th><th scope=col>&lt;dbl&gt;</th><th scope=col>&lt;dbl&gt;</th><th scope=col>&lt;dbl&gt;</th><th scope=col>&lt;dbl&gt;</th><th scope=col>&lt;dbl&gt;</th><th scope=col>&lt;dbl&gt;</th><th scope=col>&lt;dbl&gt;</th><th scope=col>&lt;dbl&gt;</th><th scope=col>&lt;dbl&gt;</th><th scope=col>&lt;dbl&gt;</th><th scope=col>&lt;dbl&gt;</th><th scope=col>&lt;dbl&gt;</th><th scope=col>&lt;dbl&gt;</th></tr>\n",
       "</thead>\n",
       "<tbody>\n",
       "\t<tr><th scope=row>3</th><td>1</td><td>1</td><td>0.196364</td><td>0.437273</td><td>0.2483090</td><td>1349</td><td>1</td><td>0</td><td>0</td><td>0</td><td>1</td><td>0</td><td>1</td><td>0</td><td>0</td><td>1</td><td>1</td><td>0</td><td>0</td></tr>\n",
       "\t<tr><th scope=row>6</th><td>4</td><td>1</td><td>0.204348</td><td>0.518261</td><td>0.0895652</td><td>1606</td><td>1</td><td>0</td><td>0</td><td>0</td><td>1</td><td>0</td><td>1</td><td>0</td><td>0</td><td>1</td><td>1</td><td>0</td><td>0</td></tr>\n",
       "\t<tr><th scope=row>12</th><td>3</td><td>1</td><td>0.172727</td><td>0.599545</td><td>0.3046270</td><td>1162</td><td>1</td><td>0</td><td>0</td><td>0</td><td>1</td><td>0</td><td>1</td><td>0</td><td>0</td><td>1</td><td>1</td><td>0</td><td>0</td></tr>\n",
       "\t<tr><th scope=row>20</th><td>4</td><td>1</td><td>0.261667</td><td>0.538333</td><td>0.1959040</td><td>1927</td><td>1</td><td>0</td><td>0</td><td>0</td><td>1</td><td>0</td><td>1</td><td>0</td><td>0</td><td>1</td><td>0</td><td>1</td><td>0</td></tr>\n",
       "\t<tr><th scope=row>28</th><td>5</td><td>1</td><td>0.203478</td><td>0.793043</td><td>0.1233000</td><td>1167</td><td>1</td><td>0</td><td>0</td><td>0</td><td>1</td><td>0</td><td>1</td><td>0</td><td>0</td><td>1</td><td>0</td><td>1</td><td>0</td></tr>\n",
       "</tbody>\n",
       "</table>\n"
      ],
      "text/latex": [
       "A data.frame: 5 × 19\n",
       "\\begin{tabular}{r|lllllllllllllllllll}\n",
       "  & weekday & month & temp & humidity & windspeed & total\\_count & season.1 & season.2 & season.3 & season.4 & year.0 & year.1 & holiday.0 & holiday.1 & workingday.0 & workingday.1 & weather\\_condition.1 & weather\\_condition.2 & weather\\_condition.3\\\\\n",
       "  & <fct> & <fct> & <dbl> & <dbl> & <dbl> & <int> & <dbl> & <dbl> & <dbl> & <dbl> & <dbl> & <dbl> & <dbl> & <dbl> & <dbl> & <dbl> & <dbl> & <dbl> & <dbl>\\\\\n",
       "\\hline\n",
       "\t3 & 1 & 1 & 0.196364 & 0.437273 & 0.2483090 & 1349 & 1 & 0 & 0 & 0 & 1 & 0 & 1 & 0 & 0 & 1 & 1 & 0 & 0\\\\\n",
       "\t6 & 4 & 1 & 0.204348 & 0.518261 & 0.0895652 & 1606 & 1 & 0 & 0 & 0 & 1 & 0 & 1 & 0 & 0 & 1 & 1 & 0 & 0\\\\\n",
       "\t12 & 3 & 1 & 0.172727 & 0.599545 & 0.3046270 & 1162 & 1 & 0 & 0 & 0 & 1 & 0 & 1 & 0 & 0 & 1 & 1 & 0 & 0\\\\\n",
       "\t20 & 4 & 1 & 0.261667 & 0.538333 & 0.1959040 & 1927 & 1 & 0 & 0 & 0 & 1 & 0 & 1 & 0 & 0 & 1 & 0 & 1 & 0\\\\\n",
       "\t28 & 5 & 1 & 0.203478 & 0.793043 & 0.1233000 & 1167 & 1 & 0 & 0 & 0 & 1 & 0 & 1 & 0 & 0 & 1 & 0 & 1 & 0\\\\\n",
       "\\end{tabular}\n"
      ],
      "text/markdown": [
       "\n",
       "A data.frame: 5 × 19\n",
       "\n",
       "| <!--/--> | weekday &lt;fct&gt; | month &lt;fct&gt; | temp &lt;dbl&gt; | humidity &lt;dbl&gt; | windspeed &lt;dbl&gt; | total_count &lt;int&gt; | season.1 &lt;dbl&gt; | season.2 &lt;dbl&gt; | season.3 &lt;dbl&gt; | season.4 &lt;dbl&gt; | year.0 &lt;dbl&gt; | year.1 &lt;dbl&gt; | holiday.0 &lt;dbl&gt; | holiday.1 &lt;dbl&gt; | workingday.0 &lt;dbl&gt; | workingday.1 &lt;dbl&gt; | weather_condition.1 &lt;dbl&gt; | weather_condition.2 &lt;dbl&gt; | weather_condition.3 &lt;dbl&gt; |\n",
       "|---|---|---|---|---|---|---|---|---|---|---|---|---|---|---|---|---|---|---|---|\n",
       "| 3 | 1 | 1 | 0.196364 | 0.437273 | 0.2483090 | 1349 | 1 | 0 | 0 | 0 | 1 | 0 | 1 | 0 | 0 | 1 | 1 | 0 | 0 |\n",
       "| 6 | 4 | 1 | 0.204348 | 0.518261 | 0.0895652 | 1606 | 1 | 0 | 0 | 0 | 1 | 0 | 1 | 0 | 0 | 1 | 1 | 0 | 0 |\n",
       "| 12 | 3 | 1 | 0.172727 | 0.599545 | 0.3046270 | 1162 | 1 | 0 | 0 | 0 | 1 | 0 | 1 | 0 | 0 | 1 | 1 | 0 | 0 |\n",
       "| 20 | 4 | 1 | 0.261667 | 0.538333 | 0.1959040 | 1927 | 1 | 0 | 0 | 0 | 1 | 0 | 1 | 0 | 0 | 1 | 0 | 1 | 0 |\n",
       "| 28 | 5 | 1 | 0.203478 | 0.793043 | 0.1233000 | 1167 | 1 | 0 | 0 | 0 | 1 | 0 | 1 | 0 | 0 | 1 | 0 | 1 | 0 |\n",
       "\n"
      ],
      "text/plain": [
       "   weekday month temp     humidity windspeed total_count season.1 season.2\n",
       "3  1       1     0.196364 0.437273 0.2483090 1349        1        0       \n",
       "6  4       1     0.204348 0.518261 0.0895652 1606        1        0       \n",
       "12 3       1     0.172727 0.599545 0.3046270 1162        1        0       \n",
       "20 4       1     0.261667 0.538333 0.1959040 1927        1        0       \n",
       "28 5       1     0.203478 0.793043 0.1233000 1167        1        0       \n",
       "   season.3 season.4 year.0 year.1 holiday.0 holiday.1 workingday.0\n",
       "3  0        0        1      0      1         0         0           \n",
       "6  0        0        1      0      1         0         0           \n",
       "12 0        0        1      0      1         0         0           \n",
       "20 0        0        1      0      1         0         0           \n",
       "28 0        0        1      0      1         0         0           \n",
       "   workingday.1 weather_condition.1 weather_condition.2 weather_condition.3\n",
       "3  1            1                   0                   0                  \n",
       "6  1            1                   0                   0                  \n",
       "12 1            1                   0                   0                  \n",
       "20 1            0                   1                   0                  \n",
       "28 1            0                   1                   0                  "
      ]
     },
     "metadata": {},
     "output_type": "display_data"
    }
   ],
   "source": [
    "set.seed(5662)\n",
    "vars<-setdiff(colnames(test),c(test$total_count,othervars))\n",
    "f<- paste('~',paste(vars,collapse='+'))\n",
    "encoder<-dummyVars(as.formula(f),test)\n",
    "encode_attributes<-predict(encoder,test)\n",
    "test_encoded_attributes<-cbind(test_num_attributes,encode_attributes)\n",
    "head(test_encoded_attributes,5)"
   ]
  },
  {
   "cell_type": "markdown",
   "id": "6c26f598-d1c9-46fc-af28-8622ef4eb3ac",
   "metadata": {},
   "source": [
    "**Modelling the training dataset**\n"
   ]
  },
  {
   "cell_type": "markdown",
   "id": "93ce91e3-027e-4d78-9273-efeef40927f8",
   "metadata": {},
   "source": [
    "**Linear Regression**"
   ]
  },
  {
   "cell_type": "code",
   "execution_count": 27,
   "id": "1aa24c0e-764d-4bfd-81f5-d03869809866",
   "metadata": {},
   "outputs": [
    {
     "data": {
      "text/plain": [
       "\n",
       "Call:\n",
       "lm(formula = train_encoded_attributes$total_count ~ ., data = train_encoded_attributes[, \n",
       "    -c(6)])\n",
       "\n",
       "Residuals:\n",
       "     Min       1Q   Median       3Q      Max \n",
       "-2707.18  -351.13    39.77   428.94  2758.95 \n",
       "\n",
       "Coefficients: (6 not defined because of singularities)\n",
       "                    Estimate Std. Error t value Pr(>|t|)    \n",
       "(Intercept)          2917.93     524.68   5.561 4.44e-08 ***\n",
       "weekday1              317.65     125.75   2.526 0.011854 *  \n",
       "weekday2              350.58     119.88   2.924 0.003614 ** \n",
       "weekday3              285.02     124.15   2.296 0.022112 *  \n",
       "weekday4              378.60     117.78   3.214 0.001395 ** \n",
       "weekday5              394.96     121.36   3.255 0.001216 ** \n",
       "weekday6              470.56     119.33   3.944 9.22e-05 ***\n",
       "month2                132.70     163.37   0.812 0.417047    \n",
       "month3                716.91     187.58   3.822 0.000150 ***\n",
       "month4                757.70     287.65   2.634 0.008708 ** \n",
       "month5               1095.23     308.54   3.550 0.000423 ***\n",
       "month6                905.57     326.42   2.774 0.005748 ** \n",
       "month7                324.10     360.15   0.900 0.368628    \n",
       "month8                819.81     343.35   2.388 0.017337 *  \n",
       "month9               1442.68     299.55   4.816 1.96e-06 ***\n",
       "month10               926.11     286.57   3.232 0.001315 ** \n",
       "month11               110.92     266.28   0.417 0.677189    \n",
       "month12                76.15     218.14   0.349 0.727173    \n",
       "temp                 3970.23     491.77   8.073 5.49e-15 ***\n",
       "humidity            -1561.29     344.66  -4.530 7.44e-06 ***\n",
       "windspeed           -3351.29     465.28  -7.203 2.28e-12 ***\n",
       "season.1            -1443.24     211.39  -6.827 2.60e-11 ***\n",
       "season.2             -679.57     237.38  -2.863 0.004382 ** \n",
       "season.3             -818.53     206.92  -3.956 8.77e-05 ***\n",
       "season.4                  NA         NA      NA       NA    \n",
       "year.0              -2070.22      66.12 -31.309  < 2e-16 ***\n",
       "year.1                    NA         NA      NA       NA    \n",
       "holiday.0             610.55     203.26   3.004 0.002805 ** \n",
       "holiday.1                 NA         NA      NA       NA    \n",
       "workingday.0              NA         NA      NA       NA    \n",
       "workingday.1              NA         NA      NA       NA    \n",
       "weather_condition.1  1751.35     255.13   6.865 2.06e-11 ***\n",
       "weather_condition.2  1314.06     241.23   5.447 8.16e-08 ***\n",
       "weather_condition.3       NA         NA      NA       NA    \n",
       "---\n",
       "Signif. codes:  0 '***' 0.001 '**' 0.01 '*' 0.05 '.' 0.1 ' ' 1\n",
       "\n",
       "Residual standard error: 715 on 483 degrees of freedom\n",
       "Multiple R-squared:  0.871,\tAdjusted R-squared:  0.8638 \n",
       "F-statistic: 120.8 on 27 and 483 DF,  p-value: < 2.2e-16\n"
      ]
     },
     "metadata": {},
     "output_type": "display_data"
    }
   ],
   "source": [
    "set.seed(672)\n",
    "lr_model<-lm(train_encoded_attributes$total_count~.,train_encoded_attributes[,-c(6)])\n",
    "summary(lr_model)"
   ]
  },
  {
   "cell_type": "markdown",
   "id": "78af79de-c695-420b-863a-23e750cdbd72",
   "metadata": {},
   "source": [
    "***Cross validation prediction***"
   ]
  },
  {
   "cell_type": "code",
   "execution_count": 28,
   "id": "75ab2cd1-5a1b-4130-8dba-64163be2b7c2",
   "metadata": {},
   "outputs": [
    {
     "data": {
      "text/plain": [
       "\n",
       "Call:\n",
       "lm(formula = .outcome ~ ., data = dat)\n",
       "\n",
       "Residuals:\n",
       "     Min       1Q   Median       3Q      Max \n",
       "-2707.18  -351.13    39.77   428.94  2758.95 \n",
       "\n",
       "Coefficients: (6 not defined because of singularities)\n",
       "                    Estimate Std. Error t value Pr(>|t|)    \n",
       "(Intercept)          2917.93     524.68   5.561 4.44e-08 ***\n",
       "weekday1              317.65     125.75   2.526 0.011854 *  \n",
       "weekday2              350.58     119.88   2.924 0.003614 ** \n",
       "weekday3              285.02     124.15   2.296 0.022112 *  \n",
       "weekday4              378.60     117.78   3.214 0.001395 ** \n",
       "weekday5              394.96     121.36   3.255 0.001216 ** \n",
       "weekday6              470.56     119.33   3.944 9.22e-05 ***\n",
       "month2                132.70     163.37   0.812 0.417047    \n",
       "month3                716.91     187.58   3.822 0.000150 ***\n",
       "month4                757.70     287.65   2.634 0.008708 ** \n",
       "month5               1095.23     308.54   3.550 0.000423 ***\n",
       "month6                905.57     326.42   2.774 0.005748 ** \n",
       "month7                324.10     360.15   0.900 0.368628    \n",
       "month8                819.81     343.35   2.388 0.017337 *  \n",
       "month9               1442.68     299.55   4.816 1.96e-06 ***\n",
       "month10               926.11     286.57   3.232 0.001315 ** \n",
       "month11               110.92     266.28   0.417 0.677189    \n",
       "month12                76.15     218.14   0.349 0.727173    \n",
       "temp                 3970.23     491.77   8.073 5.49e-15 ***\n",
       "humidity            -1561.29     344.66  -4.530 7.44e-06 ***\n",
       "windspeed           -3351.29     465.28  -7.203 2.28e-12 ***\n",
       "season.1            -1443.24     211.39  -6.827 2.60e-11 ***\n",
       "season.2             -679.57     237.38  -2.863 0.004382 ** \n",
       "season.3             -818.53     206.92  -3.956 8.77e-05 ***\n",
       "season.4                  NA         NA      NA       NA    \n",
       "year.0              -2070.22      66.12 -31.309  < 2e-16 ***\n",
       "year.1                    NA         NA      NA       NA    \n",
       "holiday.0             610.55     203.26   3.004 0.002805 ** \n",
       "holiday.1                 NA         NA      NA       NA    \n",
       "workingday.0              NA         NA      NA       NA    \n",
       "workingday.1              NA         NA      NA       NA    \n",
       "weather_condition.1  1751.35     255.13   6.865 2.06e-11 ***\n",
       "weather_condition.2  1314.06     241.23   5.447 8.16e-08 ***\n",
       "weather_condition.3       NA         NA      NA       NA    \n",
       "---\n",
       "Signif. codes:  0 '***' 0.001 '**' 0.01 '*' 0.05 '.' 0.1 ' ' 1\n",
       "\n",
       "Residual standard error: 715 on 483 degrees of freedom\n",
       "Multiple R-squared:  0.871,\tAdjusted R-squared:  0.8638 \n",
       "F-statistic: 120.8 on 27 and 483 DF,  p-value: < 2.2e-16\n"
      ]
     },
     "metadata": {},
     "output_type": "display_data"
    }
   ],
   "source": [
    "options(warn=-1)\n",
    "set.seed(623)\n",
    "train.control<-trainControl(method='CV',number=3)\n",
    "CV_predict<-train(total_count~.,data=train_encoded_attributes,method='lm',trControl=train.control)\n",
    "summary(CV_predict)"
   ]
  },
  {
   "cell_type": "markdown",
   "id": "ce69b34f-275a-4aad-ad1c-9c005717561f",
   "metadata": {},
   "source": [
    "\n",
    "\n",
    "The adjusted R-squared or coefficient of determination is 0.83 on average for 3-fold cross validation , it means that predictor is only able to predict 83% of the variance in the target variable which is contributed by independent variables. The p-value is less than 0.05, means that it rejects the assumption of null hypothesis."
   ]
  },
  {
   "cell_type": "markdown",
   "id": "ef1116c8-9c19-46d8-b299-e45a82f0e04c",
   "metadata": {},
   "source": [
    "***Cross validation prediction plot***"
   ]
  },
  {
   "cell_type": "code",
   "execution_count": 29,
   "id": "43941f68-b863-48fe-9ec4-30eb2b6162cf",
   "metadata": {},
   "outputs": [
    {
     "data": {
      "image/png": "[encoded data removed]",
      "text/plain": [
       "Plot with title \"Cross Validation Prediction Plot\""
      ]
     },
     "metadata": {
      "image/png": {
       "height": 420,
       "width": 420
      }
     },
     "output_type": "display_data"
    }
   ],
   "source": [
    "residuals <- resid(CV_predict)\n",
    "y_train <- train_encoded_attributes$total_count\n",
    "\n",
    "plot(y_train, residuals, \n",
    "     ylab = 'Residuals', \n",
    "     xlab = 'Observed', \n",
    "     main = 'Cross Validation Prediction Plot',\n",
    "     pch = 19,\n",
    "     col = rgb(0.2, 0.4, 0.6, alpha = 0.4))\n",
    "abline(h = 0, col = \"red\", lwd = 2)\n",
    "grid()\n",
    "par(mar = c(5.1, 4.1, 4.1, 2.1))"
   ]
  },
  {
   "cell_type": "markdown",
   "id": "0123895f-702b-473a-90cf-550f853938ca",
   "metadata": {},
   "source": [
    "\n",
    "\n",
    "Cross validation prediction plot tells about finite variance between actual target value and predicted target value. In this plot, some data points are have same finite variance between them and for some are not have it.\n",
    "\n",
    "\n"
   ]
  },
  {
   "cell_type": "markdown",
   "id": "d9207057-4a0b-4893-9f70-f0ebfaafe6f3",
   "metadata": {},
   "source": [
    "***Model performance on test data***"
   ]
  },
  {
   "cell_type": "code",
   "execution_count": 30,
   "id": "517cb0cf-09a5-4b1c-bfed-efe244d8c79b",
   "metadata": {},
   "outputs": [
    {
     "data": {
      "text/html": [
       "<style>\n",
       ".dl-inline {width: auto; margin:0; padding: 0}\n",
       ".dl-inline>dt, .dl-inline>dd {float: none; width: auto; display: inline-block}\n",
       ".dl-inline>dt::after {content: \":\\0020\"; padding-right: .5ex}\n",
       ".dl-inline>dt:not(:first-of-type) {padding-left: .5ex}\n",
       "</style><dl class=dl-inline><dt>3</dt><dd>1348.75077382962</dd><dt>6</dt><dd>1846.95203193732</dd><dt>12</dt><dd>780.192835391262</dd><dt>20</dt><dd>1249.51559588935</dd><dt>28</dt><dd>880.488983846503</dd></dl>\n"
      ],
      "text/latex": [
       "\\begin{description*}\n",
       "\\item[3] 1348.75077382962\n",
       "\\item[6] 1846.95203193732\n",
       "\\item[12] 780.192835391262\n",
       "\\item[20] 1249.51559588935\n",
       "\\item[28] 880.488983846503\n",
       "\\end{description*}\n"
      ],
      "text/markdown": [
       "3\n",
       ":   1348.750773829626\n",
       ":   1846.9520319373212\n",
       ":   780.19283539126220\n",
       ":   1249.5155958893528\n",
       ":   880.488983846503\n",
       "\n"
      ],
      "text/plain": [
       "        3         6        12        20        28 \n",
       "1348.7508 1846.9520  780.1928 1249.5156  880.4890 "
      ]
     },
     "metadata": {},
     "output_type": "display_data"
    }
   ],
   "source": [
    "set.seed(6872)\n",
    "options(warn=-1)\n",
    "lm_predict<- predict(lr_model,test_encoded_attributes[,-c(6)])\n",
    "head(lm_predict,5)"
   ]
  },
  {
   "cell_type": "markdown",
   "id": "6ef9e768-c07b-458d-9a04-dd8c09253b05",
   "metadata": {},
   "source": [
    "***Root mean squared error and mean absolute error***"
   ]
  },
  {
   "cell_type": "code",
   "execution_count": 31,
   "id": "0acab2c1-289f-4958-a178-c78f9b0dab80",
   "metadata": {},
   "outputs": [
    {
     "name": "stdout",
     "output_type": "stream",
     "text": [
      "[1] 908.9933\n",
      "[1] 643.8778\n"
     ]
    }
   ],
   "source": [
    "set.seed(688)\n",
    "rmse<-RMSE(lm_predict, test_encoded_attributes$total_count)\n",
    "print(rmse)\n",
    "mae<-MAE(lm_predict, test_encoded_attributes$total_count)\n",
    "print(mae)"
   ]
  },
  {
   "cell_type": "markdown",
   "id": "fed42b72-b499-4a7a-829d-50856af60748",
   "metadata": {},
   "source": [
    "***Residual plot***"
   ]
  },
  {
   "cell_type": "code",
   "execution_count": 32,
   "id": "545dc029-0de6-4cd2-987c-dc9b565fd202",
   "metadata": {},
   "outputs": [
    {
     "data": {
      "image/png": "[encoded data removed]",
      "text/plain": [
       "Plot with title \"Residual Plot\""
      ]
     },
     "metadata": {
      "image/png": {
       "height": 420,
       "width": 420
      }
     },
     "output_type": "display_data"
    }
   ],
   "source": [
    "y_test <- test_encoded_attributes$total_count\n",
    "residuals <- y_test - lm_predict\n",
    "\n",
    "plot(y_test, residuals, \n",
    "     xlab = 'Observed', \n",
    "     ylab = 'Residuals', \n",
    "     main = 'Residual Plot',\n",
    "     pch = 19,\n",
    "     col = rgb(0.5, 0.1, 0.5, alpha = 0.4))\n",
    "abline(h = 0, col = \"green\", lwd = 2)\n",
    "grid()\n",
    "par(mar = c(4, 3, 2, 1))\n"
   ]
  },
  {
   "cell_type": "markdown",
   "id": "46831de8-5a96-4505-9d33-cd5e489f5aa1",
   "metadata": {},
   "source": [
    "\n",
    "\n",
    "Residual plot tells about finite variance between actual target value and predicted target value. In this plot, some data points are have same finite variance between them and for some are not have it.\n"
   ]
  },
  {
   "cell_type": "markdown",
   "id": "7688ab54-69c5-435f-a99a-38b6ea31c269",
   "metadata": {},
   "source": [
    "**Decision Tree**"
   ]
  },
  {
   "cell_type": "code",
   "execution_count": 33,
   "id": "2b4a3ab9-c2c2-4d8f-b915-4afabf9e5ad1",
   "metadata": {},
   "outputs": [
    {
     "data": {
      "text/plain": [
       "n= 511 \n",
       "\n",
       "node), split, n, deviance, yval\n",
       "      * denotes terminal node\n",
       "\n",
       " 1) root 511 1914225000.0 4696.781  \n",
       "   2) temp< 0.432174 192  471587300.0 3177.349  \n",
       "     4) year.0>=0.5 96  101503200.0 2153.531  \n",
       "       8) season.4< 0.5 68   19547550.0 1635.882 *\n",
       "       9) season.4>=0.5 28   19482590.0 3410.679 *\n",
       "     5) year.0< 0.5 96  168829200.0 4201.167  \n",
       "      10) season.1>=0.5 50   46615420.0 3281.720  \n",
       "        20) temp< 0.2804165 23   12532050.0 2586.739 *\n",
       "        21) temp>=0.2804165 27   13511210.0 3873.741 *\n",
       "      11) season.1< 0.5 46   33999960.0 5200.565 *\n",
       "   3) temp>=0.432174 319  732580000.0 5611.298  \n",
       "     6) year.0>=0.5 145  109169800.0 4308.593  \n",
       "      12) weather_condition.3>=0.5 7     946211.7 2281.429 *\n",
       "      13) weather_condition.3< 0.5 138   77998670.0 4411.420 *\n",
       "     7) year.0< 0.5 174  172280500.0 6696.885  \n",
       "      14) humidity>=0.8322915 7    4011117.0 4690.143 *\n",
       "      15) humidity< 0.8322915 167  138898700.0 6781.000  \n",
       "        30) month=2,3,4,5,7,11,12 76   49858240.0 6388.855 *\n",
       "        31) month=6,8,9,10 91   67592710.0 7108.505 *"
      ]
     },
     "metadata": {},
     "output_type": "display_data"
    }
   ],
   "source": [
    "set.seed(568)\n",
    "library(rpart)\n",
    "rpart.control<-rpart.control(minbucket = 2,cp = 0.01,maxcompete = 3, maxsurrogate = 4, usesurrogate = 2, xval = 3,surrogatestyle = 0, maxdepth = 10) \n",
    "dtr<-rpart(train_encoded_attributes$total_count~.,data=train_encoded_attributes[,-c(6)],control=rpart.control,method='anova',cp=0.01)\n",
    "dtr"
   ]
  },
  {
   "cell_type": "markdown",
   "id": "b0d527c5-e1df-43f2-9eac-6012dc6e0ab4",
   "metadata": {},
   "source": [
    "***Plot***"
   ]
  },
  {
   "cell_type": "code",
   "execution_count": 34,
   "id": "f56485be-c61b-4029-be6e-33594be6b88f",
   "metadata": {},
   "outputs": [
    {
     "data": {
      "image/png": "[encoded data removed]",
      "text/plain": [
       "Plot with title \"Decision Tree Model\""
      ]
     },
     "metadata": {
      "image/png": {
       "height": 420,
       "width": 420
      }
     },
     "output_type": "display_data"
    }
   ],
   "source": [
    "library(rpart.plot)\n",
    "# Plot the learned decision tree model\n",
    "rpart.plot(dtr, \n",
    "           box.palette = \"RdYlGn\", \n",
    "           shadow.col = \"gray\", \n",
    "           nn = TRUE,\n",
    "           roundint = FALSE,\n",
    "           fallen.leaves = TRUE, \n",
    "           main = \"Decision Tree Model\",\n",
    "           extra = 101, \n",
    "           tweak = 1)"
   ]
  },
  {
   "cell_type": "markdown",
   "id": "fbfa4716-f1d6-46ce-955d-49a0196c4298",
   "metadata": {},
   "source": [
    "***Cross validation prediction***"
   ]
  },
  {
   "cell_type": "code",
   "execution_count": 35,
   "id": "045c262c-c0a8-4e7a-b158-ab604df63711",
   "metadata": {},
   "outputs": [
    {
     "data": {
      "text/plain": [
       "CART \n",
       "\n",
       "511 samples\n",
       " 18 predictor\n",
       "\n",
       "No pre-processing\n",
       "Resampling: Cross-Validated (3 fold) \n",
       "Summary of sample sizes: 341, 340, 341 \n",
       "Resampling results across tuning parameters:\n",
       "\n",
       "  cp         RMSE      Rsquared   MAE      \n",
       "  0.1051365  1132.561  0.6607418   899.7378\n",
       "  0.2356722  1478.369  0.4143560  1231.4617\n",
       "  0.3709376  1720.180  0.3146286  1437.2166\n",
       "\n",
       "RMSE was used to select the optimal model using the smallest value.\n",
       "The final value used for the model was cp = 0.1051365."
      ]
     },
     "metadata": {},
     "output_type": "display_data"
    }
   ],
   "source": [
    "options(warn=-1)\n",
    "set.seed(5769)\n",
    "train.control<-trainControl(method='CV',number=3)\n",
    "dtr_CV_predict<-train(total_count~.,data=train_encoded_attributes,method='rpart',trControl=train.control)\n",
    "dtr_CV_predict"
   ]
  },
  {
   "cell_type": "markdown",
   "id": "2bd8f2ea-1911-41c0-ba32-d499d228f54f",
   "metadata": {},
   "source": [
    "\n",
    "The R-squared or coefficient of determination is 0.60 on average for 3-fold cross validation , it means that predictor is only able to predict 60% of the variance in the target variable which is contributed by independent variables.\n"
   ]
  },
  {
   "cell_type": "markdown",
   "id": "458d6e6d-095e-4438-a81e-441f361f2aa1",
   "metadata": {},
   "source": [
    "***Cross validation prediction plot***"
   ]
  },
  {
   "cell_type": "code",
   "execution_count": 36,
   "id": "3b02a4fa-7ff6-440b-8347-cf0bbc9717e8",
   "metadata": {},
   "outputs": [
    {
     "data": {
      "image/png": "[encoded data removed]",
      "text/plain": [
       "Plot with title \"Cross Validation Plot\""
      ]
     },
     "metadata": {
      "image/png": {
       "height": 420,
       "width": 420
      }
     },
     "output_type": "display_data"
    }
   ],
   "source": [
    "residuals <- resid(dtr_CV_predict)\n",
    "\n",
    "plot(y_train, residuals, \n",
    "     xlab = 'Observed', \n",
    "     ylab = 'Residuals', \n",
    "     main = 'Cross Validation Plot',\n",
    "     pch = 19, \n",
    "     col = rgb(0.3, 0.2, 0.6, alpha = 0.4)) \n",
    "abline(h = 0, col = \"red\", lwd = 2)\n",
    "grid()\n",
    "par(mar = c(5.1, 4.1, 4.1, 2.1))"
   ]
  },
  {
   "cell_type": "markdown",
   "id": "fde00f7e-b07b-4592-8185-798e635f6d93",
   "metadata": {},
   "source": [
    "\n",
    "\n",
    "Cross validation prediction plot tells about finite variance between actual target value and predicted target value. In this plot, some data points are have same finite variance between them and for some are not have it.\n",
    "\n",
    "\n"
   ]
  },
  {
   "cell_type": "markdown",
   "id": "a05998ed-2d3e-4383-895a-076b685f57d4",
   "metadata": {},
   "source": [
    "***Model performance on the test dataset***"
   ]
  },
  {
   "cell_type": "code",
   "execution_count": 37,
   "id": "26916744-80b0-439c-a984-c323287dd9dc",
   "metadata": {},
   "outputs": [
    {
     "data": {
      "text/html": [
       "<style>\n",
       ".dl-inline {width: auto; margin:0; padding: 0}\n",
       ".dl-inline>dt, .dl-inline>dd {float: none; width: auto; display: inline-block}\n",
       ".dl-inline>dt::after {content: \":\\0020\"; padding-right: .5ex}\n",
       ".dl-inline>dt:not(:first-of-type) {padding-left: .5ex}\n",
       "</style><dl class=dl-inline><dt>3</dt><dd>1635.88235294118</dd><dt>6</dt><dd>1635.88235294118</dd><dt>12</dt><dd>1635.88235294118</dd><dt>20</dt><dd>1635.88235294118</dd><dt>28</dt><dd>1635.88235294118</dd></dl>\n"
      ],
      "text/latex": [
       "\\begin{description*}\n",
       "\\item[3] 1635.88235294118\n",
       "\\item[6] 1635.88235294118\n",
       "\\item[12] 1635.88235294118\n",
       "\\item[20] 1635.88235294118\n",
       "\\item[28] 1635.88235294118\n",
       "\\end{description*}\n"
      ],
      "text/markdown": [
       "3\n",
       ":   1635.882352941186\n",
       ":   1635.8823529411812\n",
       ":   1635.8823529411820\n",
       ":   1635.8823529411828\n",
       ":   1635.88235294118\n",
       "\n"
      ],
      "text/plain": [
       "       3        6       12       20       28 \n",
       "1635.882 1635.882 1635.882 1635.882 1635.882 "
      ]
     },
     "metadata": {},
     "output_type": "display_data"
    }
   ],
   "source": [
    "set.seed(7882)\n",
    "dtr_predict<-predict(dtr,test_encoded_attributes[,-c(6)])\n",
    "head(dtr_predict,5)"
   ]
  },
  {
   "cell_type": "markdown",
   "id": "1fe3ea57-a5e8-40f1-b8fa-7e95da9d85ac",
   "metadata": {},
   "source": [
    "***Root mean squared error and mean absolute error***\n"
   ]
  },
  {
   "cell_type": "code",
   "execution_count": 38,
   "id": "acee60c9-4a30-4f85-bac0-20ac2bc00418",
   "metadata": {},
   "outputs": [
    {
     "name": "stdout",
     "output_type": "stream",
     "text": [
      "[1] 1002.157\n",
      "[1] 703.514\n"
     ]
    }
   ],
   "source": [
    "set.seed(6889)\n",
    "rmse<-RMSE(y_test,dtr_predict)\n",
    "print(rmse)\n",
    "mae<-MAE(y_test,dtr_predict)\n",
    "print(mae)"
   ]
  },
  {
   "cell_type": "markdown",
   "id": "cc7773b3-055a-4d22-b5ee-86d6065c9507",
   "metadata": {},
   "source": [
    "***Residual plot***"
   ]
  },
  {
   "cell_type": "code",
   "execution_count": 39,
   "id": "2892260e-561a-427c-952f-36834ee6c0f0",
   "metadata": {
    "scrolled": true
   },
   "outputs": [
    {
     "data": {
      "image/png": "[encoded data removed]",
      "text/plain": [
       "Plot with title \"Residual Plot\""
      ]
     },
     "metadata": {
      "image/png": {
       "height": 420,
       "width": 420
      }
     },
     "output_type": "display_data"
    }
   ],
   "source": [
    "residuals <- y_test - dtr_predict\n",
    "\n",
    "plot(y_test, residuals, \n",
    "     xlab = 'Observed', \n",
    "     ylab = 'Residuals', \n",
    "     main = 'Residual Plot',\n",
    "     pch = 19,\n",
    "     col = rgb(0.5, 0.1, 0.5, alpha = 0.4))\n",
    "abline(h = 0, col = \"green\", lwd = 2)\n",
    "grid()\n",
    "par(mar = c(5.1, 4.1, 4.1, 2.1))"
   ]
  },
  {
   "cell_type": "markdown",
   "id": "0c634a66-afc4-4cd3-a57c-7a807da18312",
   "metadata": {},
   "source": [
    "\n",
    "\n",
    "Residual plot tells about finite variance between actual target value and predicted target value. In this plot, some data points are have same finite variance between them and for some are not have it.\n"
   ]
  },
  {
   "cell_type": "markdown",
   "id": "fcd74f3c-7d81-49b9-8a0e-9e4aab7f06a9",
   "metadata": {},
   "source": [
    "**Random Forest**"
   ]
  },
  {
   "cell_type": "code",
   "execution_count": 42,
   "id": "b5dd53bf-d707-4520-9e7a-6252fca43e05",
   "metadata": {},
   "outputs": [
    {
     "name": "stderr",
     "output_type": "stream",
     "text": [
      "randomForest 4.7-1.1\n",
      "\n",
      "Type rfNews() to see new features/changes/bug fixes.\n",
      "\n",
      "\n",
      "Attaching package: 'randomForest'\n",
      "\n",
      "\n",
      "The following object is masked from 'package:ggplot2':\n",
      "\n",
      "    margin\n",
      "\n",
      "\n"
     ]
    },
    {
     "name": "stdout",
     "output_type": "stream",
     "text": [
      "\n",
      "Call:\n",
      " randomForest(formula = total_count ~ ., data = train_encoded_attributes,      importance = TRUE, ntree = 200) \n",
      "               Type of random forest: regression\n",
      "                     Number of trees: 200\n",
      "No. of variables tried at each split: 6\n",
      "\n",
      "          Mean of squared residuals: 416620.2\n",
      "                    % Var explained: 88.88\n"
     ]
    }
   ],
   "source": [
    "set.seed(6788271)\n",
    "library(randomForest)\n",
    "rf_model <- randomForest(total_count ~ ., train_encoded_attributes, importance = TRUE, ntree = 200)\n",
    "print(rf_model)\n"
   ]
  },
  {
   "cell_type": "markdown",
   "id": "8ea2a226-d9a8-4571-a6e5-00a05e1d7d86",
   "metadata": {},
   "source": [
    "***Cross validation prediction***"
   ]
  },
  {
   "cell_type": "code",
   "execution_count": 43,
   "id": "e562f36a-21db-4cc7-9fe5-2a8f1b7dc620",
   "metadata": {},
   "outputs": [
    {
     "name": "stderr",
     "output_type": "stream",
     "text": [
      "\n",
      "Attaching package: 'ranger'\n",
      "\n",
      "\n",
      "The following object is masked from 'package:randomForest':\n",
      "\n",
      "    importance\n",
      "\n",
      "\n"
     ]
    },
    {
     "data": {
      "text/plain": [
       "Random Forest \n",
       "\n",
       "511 samples\n",
       " 18 predictor\n",
       "\n",
       "No pre-processing\n",
       "Resampling: Cross-Validated (3 fold) \n",
       "Summary of sample sizes: 340, 342, 340 \n",
       "Resampling results across tuning parameters:\n",
       "\n",
       "  mtry  splitrule   RMSE       Rsquared   MAE     \n",
       "   2    variance     970.2676  0.8593948  780.9338\n",
       "   2    extratrees  1030.9566  0.8383887  824.8574\n",
       "  17    variance     657.8152  0.8864155  466.1428\n",
       "  17    extratrees   689.0908  0.8747810  498.3550\n",
       "  33    variance     674.7069  0.8801780  475.2801\n",
       "  33    extratrees   684.7438  0.8761063  491.4590\n",
       "\n",
       "Tuning parameter 'min.node.size' was held constant at a value of 5\n",
       "RMSE was used to select the optimal model using the smallest value.\n",
       "The final values used for the model were mtry = 17, splitrule = variance\n",
       " and min.node.size = 5."
      ]
     },
     "metadata": {},
     "output_type": "display_data"
    }
   ],
   "source": [
    "#install.packages('ranger')\n",
    "#library(ranger)\n",
    "options(warn=-1)\n",
    "set.seed(6772)\n",
    "library(randomForest)\n",
    "library(ranger)\n",
    "train.control<-trainControl(method='CV',number=3)\n",
    "rf_CV_predict<-train(total_count~.,train_encoded_attributes,method='ranger',trControl=train.control)\n",
    "rf_CV_predict"
   ]
  },
  {
   "cell_type": "markdown",
   "id": "3d592b90-ca87-4ec5-bdb9-a4a4ed9ef35f",
   "metadata": {},
   "source": [
    "\n",
    "\n",
    "The R-squared or coefficient of determination is 0.86 on average for 3-fold cross validation,it means that predictor is only able to predict 86% of the variance in the target variable which is contributed by independent variables.\n"
   ]
  },
  {
   "cell_type": "markdown",
   "id": "a1e2fdd5-bbf6-48f6-bb92-8a8562527ae5",
   "metadata": {},
   "source": [
    "***Cross validation prediction plot***"
   ]
  },
  {
   "cell_type": "code",
   "execution_count": 44,
   "id": "67236d95-71bc-4a66-b885-1b6abe7e2667",
   "metadata": {},
   "outputs": [
    {
     "data": {
      "image/png": "[encoded data removed]",
      "text/plain": [
       "Plot with title \"Cross Validation Prediction Plot\""
      ]
     },
     "metadata": {
      "image/png": {
       "height": 420,
       "width": 420
      }
     },
     "output_type": "display_data"
    }
   ],
   "source": [
    "residuals <- resid(rf_CV_predict)\n",
    "\n",
    "plot(y_train, residuals, \n",
    "     xlab = 'Observed', \n",
    "     ylab = 'Residuals', \n",
    "     main = 'Cross Validation Prediction Plot',\n",
    "     pch = 19,\n",
    "     col = rgb(0.2, 0.6, 0.4, alpha = 0.4))\n",
    "\n",
    "abline(h = 0, col = \"red\", lwd = 2)\n",
    "grid()\n",
    "par(mar = c(5.1, 4.1, 4.1, 2.1))\n"
   ]
  },
  {
   "cell_type": "markdown",
   "id": "53f8a0e4-46e2-467c-bd93-be0684c2ca7b",
   "metadata": {},
   "source": [
    "\n",
    "\n",
    "Cross validation prediction plot tells about finite variance between actual target value and predicted target value. In this plot, some data points are have same finite variance between them and for some are not have it.\n",
    "\n",
    "\n"
   ]
  },
  {
   "cell_type": "markdown",
   "id": "3b7ff581-2e1f-4ce3-be46-a685d8b91352",
   "metadata": {},
   "source": [
    "***Model performance on the test dataset***"
   ]
  },
  {
   "cell_type": "code",
   "execution_count": 45,
   "id": "182c5763-a901-4923-9fe9-25a34a66f539",
   "metadata": {},
   "outputs": [
    {
     "data": {
      "text/html": [
       "<style>\n",
       ".dl-inline {width: auto; margin:0; padding: 0}\n",
       ".dl-inline>dt, .dl-inline>dd {float: none; width: auto; display: inline-block}\n",
       ".dl-inline>dt::after {content: \":\\0020\"; padding-right: .5ex}\n",
       ".dl-inline>dt:not(:first-of-type) {padding-left: .5ex}\n",
       "</style><dl class=dl-inline><dt>3</dt><dd>1449.0110218254</dd><dt>6</dt><dd>1441.26147191697</dd><dt>12</dt><dd>1439.75753373016</dd><dt>20</dt><dd>1683.93576190476</dd><dt>28</dt><dd>1361.27691491841</dd></dl>\n"
      ],
      "text/latex": [
       "\\begin{description*}\n",
       "\\item[3] 1449.0110218254\n",
       "\\item[6] 1441.26147191697\n",
       "\\item[12] 1439.75753373016\n",
       "\\item[20] 1683.93576190476\n",
       "\\item[28] 1361.27691491841\n",
       "\\end{description*}\n"
      ],
      "text/markdown": [
       "3\n",
       ":   1449.01102182546\n",
       ":   1441.2614719169712\n",
       ":   1439.7575337301620\n",
       ":   1683.9357619047628\n",
       ":   1361.27691491841\n",
       "\n"
      ],
      "text/plain": [
       "       3        6       12       20       28 \n",
       "1449.011 1441.261 1439.758 1683.936 1361.277 "
      ]
     },
     "metadata": {},
     "output_type": "display_data"
    }
   ],
   "source": [
    "set.seed(7889)\n",
    "rf_predict<-predict(rf_model,test_encoded_attributes[,-c(6)])\n",
    "head(rf_predict,5)"
   ]
  },
  {
   "cell_type": "markdown",
   "id": "e5f0778c-b9a9-46c3-b6c7-fb33df80f0ee",
   "metadata": {},
   "source": [
    "***Root mean squared error and mean absolute error***"
   ]
  },
  {
   "cell_type": "code",
   "execution_count": 46,
   "id": "124c22ca-fa48-428c-aa9b-2731f06dc455",
   "metadata": {},
   "outputs": [
    {
     "name": "stdout",
     "output_type": "stream",
     "text": [
      "[1] 844.5069\n",
      "[1] 536.8708\n"
     ]
    }
   ],
   "source": [
    "set.seed(667)\n",
    "rmse<-RMSE(y_test,rf_predict)\n",
    "print(rmse)\n",
    "mae<-MAE(y_test,rf_predict)\n",
    "print(mae)"
   ]
  },
  {
   "cell_type": "markdown",
   "id": "d49b4040-0c63-4872-9733-f161dd3dda63",
   "metadata": {},
   "source": [
    "***Residual plot***"
   ]
  },
  {
   "cell_type": "code",
   "execution_count": 47,
   "id": "a03e6b0d-d795-41a6-b6c4-d10856c33bb4",
   "metadata": {},
   "outputs": [
    {
     "data": {
      "image/png": "[encoded data removed]",
      "text/plain": [
       "Plot with title \"Residual Plot\""
      ]
     },
     "metadata": {
      "image/png": {
       "height": 420,
       "width": 420
      }
     },
     "output_type": "display_data"
    }
   ],
   "source": [
    "residuals <- y_test - rf_predict\n",
    "\n",
    "plot(y_test, residuals, \n",
    "     xlab = 'Observed', \n",
    "     ylab = 'Residuals', \n",
    "     main = 'Residual Plot',\n",
    "     pch = 20,\n",
    "     col = rgb(0.9, 0.4, 0.1, alpha = 0.4))\n",
    "abline(h = 0, col = \"blue\", lwd = 2)\n",
    "grid()\n",
    "par(mar = c(5.1, 4.1, 4.1, 2.1))"
   ]
  },
  {
   "cell_type": "markdown",
   "id": "4d24a248-e37f-46e0-90c3-e273e66a0255",
   "metadata": {},
   "source": [
    "**Final model for predicting the bike rental count on daily basis**\n",
    "\n"
   ]
  },
  {
   "cell_type": "code",
   "execution_count": 48,
   "id": "059407cf-e42e-4465-b6d9-de381431b1e9",
   "metadata": {},
   "outputs": [
    {
     "data": {
      "text/html": [
       "<table class=\"dataframe\">\n",
       "<caption>A data.frame: 220 × 2</caption>\n",
       "<thead>\n",
       "\t<tr><th></th><th scope=col>y_test</th><th scope=col>rf_predict</th></tr>\n",
       "\t<tr><th></th><th scope=col>&lt;int&gt;</th><th scope=col>&lt;dbl&gt;</th></tr>\n",
       "</thead>\n",
       "<tbody>\n",
       "\t<tr><th scope=row>3</th><td>1349</td><td>1449.011</td></tr>\n",
       "\t<tr><th scope=row>6</th><td>1606</td><td>1441.261</td></tr>\n",
       "\t<tr><th scope=row>12</th><td>1162</td><td>1439.758</td></tr>\n",
       "\t<tr><th scope=row>20</th><td>1927</td><td>1683.936</td></tr>\n",
       "\t<tr><th scope=row>28</th><td>1167</td><td>1361.277</td></tr>\n",
       "\t<tr><th scope=row>29</th><td>1098</td><td>1206.173</td></tr>\n",
       "\t<tr><th scope=row>30</th><td>1096</td><td>1297.148</td></tr>\n",
       "\t<tr><th scope=row>33</th><td>1526</td><td>1709.932</td></tr>\n",
       "\t<tr><th scope=row>37</th><td>1623</td><td>1779.968</td></tr>\n",
       "\t<tr><th scope=row>38</th><td>1712</td><td>1975.552</td></tr>\n",
       "\t<tr><th scope=row>40</th><td>1605</td><td>1623.350</td></tr>\n",
       "\t<tr><th scope=row>47</th><td>2115</td><td>1898.607</td></tr>\n",
       "\t<tr><th scope=row>50</th><td>1635</td><td>2205.483</td></tr>\n",
       "\t<tr><th scope=row>52</th><td>1107</td><td>1650.231</td></tr>\n",
       "\t<tr><th scope=row>57</th><td>1969</td><td>1563.200</td></tr>\n",
       "\t<tr><th scope=row>59</th><td>1446</td><td>1958.572</td></tr>\n",
       "\t<tr><th scope=row>60</th><td>1851</td><td>2003.421</td></tr>\n",
       "\t<tr><th scope=row>64</th><td>2077</td><td>2226.872</td></tr>\n",
       "\t<tr><th scope=row>65</th><td> 605</td><td>2080.558</td></tr>\n",
       "\t<tr><th scope=row>67</th><td>2133</td><td>2044.199</td></tr>\n",
       "\t<tr><th scope=row>68</th><td>1891</td><td>1997.001</td></tr>\n",
       "\t<tr><th scope=row>69</th><td> 623</td><td>2162.837</td></tr>\n",
       "\t<tr><th scope=row>73</th><td>2046</td><td>2063.634</td></tr>\n",
       "\t<tr><th scope=row>74</th><td>2056</td><td>1816.024</td></tr>\n",
       "\t<tr><th scope=row>81</th><td>2703</td><td>3120.614</td></tr>\n",
       "\t<tr><th scope=row>85</th><td>2496</td><td>2382.204</td></tr>\n",
       "\t<tr><th scope=row>87</th><td>2028</td><td>2362.182</td></tr>\n",
       "\t<tr><th scope=row>88</th><td>2425</td><td>2401.435</td></tr>\n",
       "\t<tr><th scope=row>90</th><td>1685</td><td>1860.993</td></tr>\n",
       "\t<tr><th scope=row>91</th><td>2227</td><td>2101.382</td></tr>\n",
       "\t<tr><th scope=row>...</th><td>...</td><td>...</td></tr>\n",
       "\t<tr><th scope=row>639</th><td>6889</td><td>7483.117</td></tr>\n",
       "\t<tr><th scope=row>641</th><td>4639</td><td>6139.958</td></tr>\n",
       "\t<tr><th scope=row>642</th><td>7572</td><td>6631.896</td></tr>\n",
       "\t<tr><th scope=row>646</th><td>3510</td><td>5656.812</td></tr>\n",
       "\t<tr><th scope=row>647</th><td>5478</td><td>5356.315</td></tr>\n",
       "\t<tr><th scope=row>649</th><td>7691</td><td>7328.954</td></tr>\n",
       "\t<tr><th scope=row>651</th><td>7282</td><td>7258.217</td></tr>\n",
       "\t<tr><th scope=row>654</th><td>5875</td><td>6138.168</td></tr>\n",
       "\t<tr><th scope=row>658</th><td>5424</td><td>6774.910</td></tr>\n",
       "\t<tr><th scope=row>663</th><td>7693</td><td>7430.490</td></tr>\n",
       "\t<tr><th scope=row>664</th><td>7359</td><td>6914.090</td></tr>\n",
       "\t<tr><th scope=row>666</th><td>7852</td><td>6623.787</td></tr>\n",
       "\t<tr><th scope=row>668</th><td>  22</td><td>5125.286</td></tr>\n",
       "\t<tr><th scope=row>669</th><td>1096</td><td>4967.563</td></tr>\n",
       "\t<tr><th scope=row>675</th><td>5259</td><td>5152.870</td></tr>\n",
       "\t<tr><th scope=row>677</th><td>5035</td><td>4955.004</td></tr>\n",
       "\t<tr><th scope=row>679</th><td>5992</td><td>5395.987</td></tr>\n",
       "\t<tr><th scope=row>680</th><td>6536</td><td>5630.619</td></tr>\n",
       "\t<tr><th scope=row>684</th><td>5495</td><td>5275.522</td></tr>\n",
       "\t<tr><th scope=row>692</th><td>2425</td><td>5116.390</td></tr>\n",
       "\t<tr><th scope=row>694</th><td>2277</td><td>4758.431</td></tr>\n",
       "\t<tr><th scope=row>704</th><td>6606</td><td>6003.842</td></tr>\n",
       "\t<tr><th scope=row>716</th><td>3786</td><td>4677.467</td></tr>\n",
       "\t<tr><th scope=row>717</th><td>4585</td><td>4942.809</td></tr>\n",
       "\t<tr><th scope=row>721</th><td>3623</td><td>3569.421</td></tr>\n",
       "\t<tr><th scope=row>724</th><td> 920</td><td>2631.123</td></tr>\n",
       "\t<tr><th scope=row>725</th><td>1013</td><td>3404.289</td></tr>\n",
       "\t<tr><th scope=row>728</th><td>3095</td><td>2923.796</td></tr>\n",
       "\t<tr><th scope=row>729</th><td>1341</td><td>2622.693</td></tr>\n",
       "\t<tr><th scope=row>730</th><td>1796</td><td>2333.190</td></tr>\n",
       "</tbody>\n",
       "</table>\n"
      ],
      "text/latex": [
       "A data.frame: 220 × 2\n",
       "\\begin{tabular}{r|ll}\n",
       "  & y\\_test & rf\\_predict\\\\\n",
       "  & <int> & <dbl>\\\\\n",
       "\\hline\n",
       "\t3 & 1349 & 1449.011\\\\\n",
       "\t6 & 1606 & 1441.261\\\\\n",
       "\t12 & 1162 & 1439.758\\\\\n",
       "\t20 & 1927 & 1683.936\\\\\n",
       "\t28 & 1167 & 1361.277\\\\\n",
       "\t29 & 1098 & 1206.173\\\\\n",
       "\t30 & 1096 & 1297.148\\\\\n",
       "\t33 & 1526 & 1709.932\\\\\n",
       "\t37 & 1623 & 1779.968\\\\\n",
       "\t38 & 1712 & 1975.552\\\\\n",
       "\t40 & 1605 & 1623.350\\\\\n",
       "\t47 & 2115 & 1898.607\\\\\n",
       "\t50 & 1635 & 2205.483\\\\\n",
       "\t52 & 1107 & 1650.231\\\\\n",
       "\t57 & 1969 & 1563.200\\\\\n",
       "\t59 & 1446 & 1958.572\\\\\n",
       "\t60 & 1851 & 2003.421\\\\\n",
       "\t64 & 2077 & 2226.872\\\\\n",
       "\t65 &  605 & 2080.558\\\\\n",
       "\t67 & 2133 & 2044.199\\\\\n",
       "\t68 & 1891 & 1997.001\\\\\n",
       "\t69 &  623 & 2162.837\\\\\n",
       "\t73 & 2046 & 2063.634\\\\\n",
       "\t74 & 2056 & 1816.024\\\\\n",
       "\t81 & 2703 & 3120.614\\\\\n",
       "\t85 & 2496 & 2382.204\\\\\n",
       "\t87 & 2028 & 2362.182\\\\\n",
       "\t88 & 2425 & 2401.435\\\\\n",
       "\t90 & 1685 & 1860.993\\\\\n",
       "\t91 & 2227 & 2101.382\\\\\n",
       "\t... & ... & ...\\\\\n",
       "\t639 & 6889 & 7483.117\\\\\n",
       "\t641 & 4639 & 6139.958\\\\\n",
       "\t642 & 7572 & 6631.896\\\\\n",
       "\t646 & 3510 & 5656.812\\\\\n",
       "\t647 & 5478 & 5356.315\\\\\n",
       "\t649 & 7691 & 7328.954\\\\\n",
       "\t651 & 7282 & 7258.217\\\\\n",
       "\t654 & 5875 & 6138.168\\\\\n",
       "\t658 & 5424 & 6774.910\\\\\n",
       "\t663 & 7693 & 7430.490\\\\\n",
       "\t664 & 7359 & 6914.090\\\\\n",
       "\t666 & 7852 & 6623.787\\\\\n",
       "\t668 &   22 & 5125.286\\\\\n",
       "\t669 & 1096 & 4967.563\\\\\n",
       "\t675 & 5259 & 5152.870\\\\\n",
       "\t677 & 5035 & 4955.004\\\\\n",
       "\t679 & 5992 & 5395.987\\\\\n",
       "\t680 & 6536 & 5630.619\\\\\n",
       "\t684 & 5495 & 5275.522\\\\\n",
       "\t692 & 2425 & 5116.390\\\\\n",
       "\t694 & 2277 & 4758.431\\\\\n",
       "\t704 & 6606 & 6003.842\\\\\n",
       "\t716 & 3786 & 4677.467\\\\\n",
       "\t717 & 4585 & 4942.809\\\\\n",
       "\t721 & 3623 & 3569.421\\\\\n",
       "\t724 &  920 & 2631.123\\\\\n",
       "\t725 & 1013 & 3404.289\\\\\n",
       "\t728 & 3095 & 2923.796\\\\\n",
       "\t729 & 1341 & 2622.693\\\\\n",
       "\t730 & 1796 & 2333.190\\\\\n",
       "\\end{tabular}\n"
      ],
      "text/markdown": [
       "\n",
       "A data.frame: 220 × 2\n",
       "\n",
       "| <!--/--> | y_test &lt;int&gt; | rf_predict &lt;dbl&gt; |\n",
       "|---|---|---|\n",
       "| 3 | 1349 | 1449.011 |\n",
       "| 6 | 1606 | 1441.261 |\n",
       "| 12 | 1162 | 1439.758 |\n",
       "| 20 | 1927 | 1683.936 |\n",
       "| 28 | 1167 | 1361.277 |\n",
       "| 29 | 1098 | 1206.173 |\n",
       "| 30 | 1096 | 1297.148 |\n",
       "| 33 | 1526 | 1709.932 |\n",
       "| 37 | 1623 | 1779.968 |\n",
       "| 38 | 1712 | 1975.552 |\n",
       "| 40 | 1605 | 1623.350 |\n",
       "| 47 | 2115 | 1898.607 |\n",
       "| 50 | 1635 | 2205.483 |\n",
       "| 52 | 1107 | 1650.231 |\n",
       "| 57 | 1969 | 1563.200 |\n",
       "| 59 | 1446 | 1958.572 |\n",
       "| 60 | 1851 | 2003.421 |\n",
       "| 64 | 2077 | 2226.872 |\n",
       "| 65 |  605 | 2080.558 |\n",
       "| 67 | 2133 | 2044.199 |\n",
       "| 68 | 1891 | 1997.001 |\n",
       "| 69 |  623 | 2162.837 |\n",
       "| 73 | 2046 | 2063.634 |\n",
       "| 74 | 2056 | 1816.024 |\n",
       "| 81 | 2703 | 3120.614 |\n",
       "| 85 | 2496 | 2382.204 |\n",
       "| 87 | 2028 | 2362.182 |\n",
       "| 88 | 2425 | 2401.435 |\n",
       "| 90 | 1685 | 1860.993 |\n",
       "| 91 | 2227 | 2101.382 |\n",
       "| ... | ... | ... |\n",
       "| 639 | 6889 | 7483.117 |\n",
       "| 641 | 4639 | 6139.958 |\n",
       "| 642 | 7572 | 6631.896 |\n",
       "| 646 | 3510 | 5656.812 |\n",
       "| 647 | 5478 | 5356.315 |\n",
       "| 649 | 7691 | 7328.954 |\n",
       "| 651 | 7282 | 7258.217 |\n",
       "| 654 | 5875 | 6138.168 |\n",
       "| 658 | 5424 | 6774.910 |\n",
       "| 663 | 7693 | 7430.490 |\n",
       "| 664 | 7359 | 6914.090 |\n",
       "| 666 | 7852 | 6623.787 |\n",
       "| 668 |   22 | 5125.286 |\n",
       "| 669 | 1096 | 4967.563 |\n",
       "| 675 | 5259 | 5152.870 |\n",
       "| 677 | 5035 | 4955.004 |\n",
       "| 679 | 5992 | 5395.987 |\n",
       "| 680 | 6536 | 5630.619 |\n",
       "| 684 | 5495 | 5275.522 |\n",
       "| 692 | 2425 | 5116.390 |\n",
       "| 694 | 2277 | 4758.431 |\n",
       "| 704 | 6606 | 6003.842 |\n",
       "| 716 | 3786 | 4677.467 |\n",
       "| 717 | 4585 | 4942.809 |\n",
       "| 721 | 3623 | 3569.421 |\n",
       "| 724 |  920 | 2631.123 |\n",
       "| 725 | 1013 | 3404.289 |\n",
       "| 728 | 3095 | 2923.796 |\n",
       "| 729 | 1341 | 2622.693 |\n",
       "| 730 | 1796 | 2333.190 |\n",
       "\n"
      ],
      "text/plain": [
       "    y_test rf_predict\n",
       "3   1349   1449.011  \n",
       "6   1606   1441.261  \n",
       "12  1162   1439.758  \n",
       "20  1927   1683.936  \n",
       "28  1167   1361.277  \n",
       "29  1098   1206.173  \n",
       "30  1096   1297.148  \n",
       "33  1526   1709.932  \n",
       "37  1623   1779.968  \n",
       "38  1712   1975.552  \n",
       "40  1605   1623.350  \n",
       "47  2115   1898.607  \n",
       "50  1635   2205.483  \n",
       "52  1107   1650.231  \n",
       "57  1969   1563.200  \n",
       "59  1446   1958.572  \n",
       "60  1851   2003.421  \n",
       "64  2077   2226.872  \n",
       "65   605   2080.558  \n",
       "67  2133   2044.199  \n",
       "68  1891   1997.001  \n",
       "69   623   2162.837  \n",
       "73  2046   2063.634  \n",
       "74  2056   1816.024  \n",
       "81  2703   3120.614  \n",
       "85  2496   2382.204  \n",
       "87  2028   2362.182  \n",
       "88  2425   2401.435  \n",
       "90  1685   1860.993  \n",
       "91  2227   2101.382  \n",
       "... ...    ...       \n",
       "639 6889   7483.117  \n",
       "641 4639   6139.958  \n",
       "642 7572   6631.896  \n",
       "646 3510   5656.812  \n",
       "647 5478   5356.315  \n",
       "649 7691   7328.954  \n",
       "651 7282   7258.217  \n",
       "654 5875   6138.168  \n",
       "658 5424   6774.910  \n",
       "663 7693   7430.490  \n",
       "664 7359   6914.090  \n",
       "666 7852   6623.787  \n",
       "668   22   5125.286  \n",
       "669 1096   4967.563  \n",
       "675 5259   5152.870  \n",
       "677 5035   4955.004  \n",
       "679 5992   5395.987  \n",
       "680 6536   5630.619  \n",
       "684 5495   5275.522  \n",
       "692 2425   5116.390  \n",
       "694 2277   4758.431  \n",
       "704 6606   6003.842  \n",
       "716 3786   4677.467  \n",
       "717 4585   4942.809  \n",
       "721 3623   3569.421  \n",
       "724  920   2631.123  \n",
       "725 1013   3404.289  \n",
       "728 3095   2923.796  \n",
       "729 1341   2622.693  \n",
       "730 1796   2333.190  "
      ]
     },
     "metadata": {},
     "output_type": "display_data"
    }
   ],
   "source": [
    "Bike_predictions=data.frame(y_test,rf_predict)\n",
    "write.csv(Bike_predictions,'Bike_Renting_R.CSV',row.names=F)\n",
    "Bike_predictions"
   ]
  },
  {
   "cell_type": "markdown",
   "id": "c04365f4-13c5-4f0a-854a-64e8832c3d56",
   "metadata": {},
   "source": [
    "\n",
    "\n",
    "When we compare the root mean squared error and mean absolute error of all 3 models, the random forest model has less root mean squared error and mean absolute error. So, finally random forest model is best for predicting the bike rental count on daily basis.\n"
   ]
  },
  {
   "cell_type": "code",
   "execution_count": null,
   "id": "65b85e79-ddfc-4d87-ac6c-e916c8e8830a",
   "metadata": {},
   "outputs": [],
   "source": []
  }
 ],
 "metadata": {
  "kernelspec": {
   "display_name": "R",
   "language": "R",
   "name": "ir"
  },
  "language_info": {
   "codemirror_mode": "r",
   "file_extension": ".r",
   "mimetype": "text/x-r-source",
   "name": "R",
   "pygments_lexer": "r",
   "version": "4.1.2"
  }
 },
 "nbformat": 4,
 "nbformat_minor": 5
}
